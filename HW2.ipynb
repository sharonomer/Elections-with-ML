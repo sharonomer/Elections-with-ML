{
 "cells": [
  {
   "cell_type": "markdown",
   "metadata": {},
   "source": [
    "# Israeli Elections"
   ]
  },
  {
   "cell_type": "markdown",
   "metadata": {},
   "source": [
    "### Imports"
   ]
  },
  {
   "cell_type": "code",
   "execution_count": 2,
   "metadata": {},
   "outputs": [],
   "source": [
    "import pandas as pd\n",
    "import numpy as np\n",
    "import random\n",
    "import itertools\n",
    "random.seed(0)\n",
    "np.random.seed(0)\n",
    "import matplotlib.pyplot as plt\n",
    "from IPython.core.display import display, HTML\n",
    "from sklearn.cluster import KMeans, MeanShift\n",
    "from sklearn.ensemble import RandomForestRegressor, AdaBoostRegressor\n",
    "from sklearn.model_selection import GridSearchCV\n",
    "from sklearn.metrics import accuracy_score, mean_squared_error, confusion_matrix\n",
    "from scipy.spatial.distance import cdist\n",
    "# from jupyterthemes import jtplot # Addon for styling notebook. Comment this line out if needed (also the jtplot.style() in the next cell)"
   ]
  },
  {
   "cell_type": "markdown",
   "metadata": {},
   "source": [
    "### Formatting jupyter cells"
   ]
  },
  {
   "cell_type": "code",
   "execution_count": 18,
   "metadata": {},
   "outputs": [
    {
     "data": {
      "text/html": [
       "<style>.container { width:100% !important; }</style>"
      ],
      "text/plain": [
       "<IPython.core.display.HTML object>"
      ]
     },
     "metadata": {},
     "output_type": "display_data"
    },
    {
     "data": {
      "text/html": [
       "<style>\n",
       "div.cell:nth-child(12) .output {\n",
       "    flex-direction: row;\n",
       "}\n",
       "div.cell:nth-child(14) .output {\n",
       "    flex-direction: row;\n",
       "}\n",
       "div.cell:nth-child(33) .output {\n",
       "    flex-direction: row;\n",
       "}\n",
       "div.cell:nth-child(39) .output {\n",
       "    flex-direction: row;\n",
       "}\n",
       "div.cell:nth-child(40) .output {\n",
       "    flex-direction: row;\n",
       "}\n",
       "div.cell:nth-child(43) .output {\n",
       "    flex-direction: row;\n",
       "}\n",
       "</style>"
      ],
      "text/plain": [
       "<IPython.core.display.HTML object>"
      ]
     },
     "execution_count": 18,
     "metadata": {},
     "output_type": "execute_result"
    }
   ],
   "source": [
    "%matplotlib inline\n",
    "# Forcing jupyter to display in full-width\n",
    "display(HTML(\"<style>.container { width:100% !important; }</style>\"))\n",
    "\n",
    "# other display options\n",
    "pd.set_option('display.max_columns', None)\n",
    "# jtplot.style()\n",
    "\n",
    "# Forcing side-by-side printing of output, when needed\n",
    "CSS = \"\"\"\n",
    "div.cell:nth-child(12) .output {\n",
    "    flex-direction: row;\n",
    "}\n",
    "div.cell:nth-child(14) .output {\n",
    "    flex-direction: row;\n",
    "}\n",
    "div.cell:nth-child(33) .output {\n",
    "    flex-direction: row;\n",
    "}\n",
    "div.cell:nth-child(39) .output {\n",
    "    flex-direction: row;\n",
    "}\n",
    "div.cell:nth-child(40) .output {\n",
    "    flex-direction: row;\n",
    "}\n",
    "div.cell:nth-child(43) .output {\n",
    "    flex-direction: row;\n",
    "}\n",
    "\"\"\"\n",
    "HTML('<style>{}</style>'.format(CSS))"
   ]
  },
  {
   "cell_type": "markdown",
   "metadata": {},
   "source": [
    "### Load & clean elections' data"
   ]
  },
  {
   "cell_type": "code",
   "execution_count": 4,
   "metadata": {},
   "outputs": [],
   "source": [
    "election21 = pd.read_csv(\"expb21.csv\", encoding = \"cp1255\")\n",
    "election22 = pd.read_csv(\"expb22.csv\", encoding = \"cp1255\")\n",
    "election23 = pd.read_csv(\"expb23.csv\", encoding = \"cp1255\")\n",
    "\n",
    "heb_to_eng = {\"סמל ועדה\": \"cmtNum\", \"ברזל\": \"ballotId\", \"שם ישוב\": \"area\", \"סמל ישוב\": \"areaId\", \n",
    "              \"קלפי\": \"ballot\", \"ריכוז\": \"density\", \"שופט\": \"judge\", \"בזב\": \"eligible\",\n",
    "             \"מצביעים\": \"voters\", \"פסולים\": \"invalid\", \"כשרים\": \"valid\", \"מספר קלפי\": \"ballot\"}\n",
    "for i in heb_to_eng: # renaming relevant columns\n",
    "    election21 = election21.rename(columns={i: heb_to_eng.get(i)})\n",
    "    election22 = election22.rename(columns={i: heb_to_eng.get(i)})\n",
    "    election23 = election23.rename(columns={i: heb_to_eng.get(i)})\n",
    "    \n",
    "# election21 has a typo in column \"דעם\" - should be \"ודעם\"\n",
    "election21 = election21.rename(columns={\"דעם\": \"ודעם\"})\n",
    "# Dropping all 0-only columns.\n",
    "election21 = election21.drop(np.array(election21.columns)[np.array(list((election21 == 0).all()))].tolist(), axis=1)\n",
    "election22 = election22.drop(np.array(election22.columns)[np.array(list((election22 == 0).all()))].tolist(), axis=1)\n",
    "election23 = election23.drop(np.array(election23.columns)[np.array(list((election23 == 0).all()))].tolist(), axis=1)\n",
    "# We noticed that \"מעטפות חיצוניות\" had 0 eligible voters, which makes no sense, so we decided to change it to the amount of people that actually voted instead. (missing data)\n",
    "for election in [election21, election22, election23]:\n",
    "    election.loc[election['area'] == \"מעטפות חיצוניות\", 'eligible'] = election.loc[election.area == \"מעטפות חיצוניות\"].voters\n",
    "# We noticed that \"מעטפות חיצוניות\" had different areaIDs in election21 than election22 and election23.\n",
    "election21.loc[election21['area'] == \"מעטפות חיצוניות\", 'areaId'] = 9999\n",
    "\n",
    "\n",
    "parties21 = list(election21.columns[7:]) # list of all parties\n",
    "parties22 = list(election22.columns[11:])\n",
    "parties23 = list(election23.columns[11:])\n",
    "\n",
    "election21 = election21.groupby(['areaId', 'area'])[[\"eligible\", \"voters\", \"invalid\", \"valid\"]+parties21].sum().reset_index()\n",
    "election22 = election22.groupby(['areaId', 'area'])[[\"eligible\", \"voters\", \"invalid\", \"valid\"]+parties22].sum().reset_index()\n",
    "election23 = election23.groupby(['areaId', 'area'])[[\"eligible\", \"voters\", \"invalid\", \"valid\"]+parties23].sum().reset_index()\n",
    "\n",
    "totalVotes21 = dict.fromkeys(parties21 , 0) # votes for all parties\n",
    "totalVotes22 = dict.fromkeys(parties22 , 0)\n",
    "totalVotes23 = dict.fromkeys(parties23 , 0)\n",
    "for party in parties21:\n",
    "    totalVotes21[party] = election21[[party]].sum()[0]\n",
    "for party in parties22:\n",
    "    totalVotes22[party] = election22[[party]].sum()[0]\n",
    "for party in parties23:\n",
    "    totalVotes23[party] = election23[[party]].sum()[0]"
   ]
  },
  {
   "cell_type": "markdown",
   "metadata": {},
   "source": [
    "## Question 2:"
   ]
  },
  {
   "cell_type": "markdown",
   "metadata": {},
   "source": [
    "### Election23: Top 5 cities with the most valid votes (not including \"מעטפות חיצוניות\")"
   ]
  },
  {
   "cell_type": "code",
   "execution_count": 10,
   "metadata": {},
   "outputs": [
    {
     "data": {
      "text/html": [
       "<style  type=\"text/css\" >\n",
       "</style><table id=\"T_cee94764_9aa1_11ea_b60b_e094677fb467\" ><thead>    <tr>        <th class=\"col_heading level0 col0\" >area</th>        <th class=\"col_heading level0 col1\" >valid</th>    </tr></thead><tbody>\n",
       "                <tr>\n",
       "                                <td id=\"T_cee94764_9aa1_11ea_b60b_e094677fb467row0_col0\" class=\"data row0 col0\" >תל אביב  יפו</td>\n",
       "                        <td id=\"T_cee94764_9aa1_11ea_b60b_e094677fb467row0_col1\" class=\"data row0 col1\" >267115</td>\n",
       "            </tr>\n",
       "            <tr>\n",
       "                                <td id=\"T_cee94764_9aa1_11ea_b60b_e094677fb467row1_col0\" class=\"data row1 col0\" >ירושלים</td>\n",
       "                        <td id=\"T_cee94764_9aa1_11ea_b60b_e094677fb467row1_col1\" class=\"data row1 col1\" >261589</td>\n",
       "            </tr>\n",
       "            <tr>\n",
       "                                <td id=\"T_cee94764_9aa1_11ea_b60b_e094677fb467row2_col0\" class=\"data row2 col0\" >חיפה</td>\n",
       "                        <td id=\"T_cee94764_9aa1_11ea_b60b_e094677fb467row2_col1\" class=\"data row2 col1\" >144625</td>\n",
       "            </tr>\n",
       "            <tr>\n",
       "                                <td id=\"T_cee94764_9aa1_11ea_b60b_e094677fb467row3_col0\" class=\"data row3 col0\" >ראשון לציון</td>\n",
       "                        <td id=\"T_cee94764_9aa1_11ea_b60b_e094677fb467row3_col1\" class=\"data row3 col1\" >137894</td>\n",
       "            </tr>\n",
       "            <tr>\n",
       "                                <td id=\"T_cee94764_9aa1_11ea_b60b_e094677fb467row4_col0\" class=\"data row4 col0\" >פתח תקווה</td>\n",
       "                        <td id=\"T_cee94764_9aa1_11ea_b60b_e094677fb467row4_col1\" class=\"data row4 col1\" >131489</td>\n",
       "            </tr>\n",
       "    </tbody></table>"
      ],
      "text/plain": [
       "<pandas.io.formats.style.Styler at 0x21e7d2cb5c8>"
      ]
     },
     "execution_count": 10,
     "metadata": {},
     "output_type": "execute_result"
    }
   ],
   "source": [
    "election23.loc[election23.area != \"מעטפות חיצוניות\", [\"area\", \"valid\"]].sort_values(\"valid\", ascending=False).iloc[:5].style.hide_index()"
   ]
  },
  {
   "cell_type": "markdown",
   "metadata": {},
   "source": [
    "### Top 5 places with the highest valid votes percentage for \"מחל\", and total votes less than 2k"
   ]
  },
  {
   "cell_type": "code",
   "execution_count": 11,
   "metadata": {},
   "outputs": [
    {
     "name": "stdout",
     "output_type": "stream",
     "text": [
      "Election21:\n"
     ]
    },
    {
     "data": {
      "text/html": [
       "<style  type=\"text/css\" >\n",
       "</style><table id=\"T_cf579558_9aa1_11ea_98a7_e094677fb467\" ><thead>    <tr>        <th class=\"col_heading level0 col0\" >area</th>        <th class=\"col_heading level0 col1\" >Percent</th>        <th class=\"col_heading level0 col2\" >מחל</th>        <th class=\"col_heading level0 col3\" >valid</th>    </tr></thead><tbody>\n",
       "                <tr>\n",
       "                                <td id=\"T_cf579558_9aa1_11ea_98a7_e094677fb467row0_col0\" class=\"data row0 col0\" >גדיש</td>\n",
       "                        <td id=\"T_cf579558_9aa1_11ea_98a7_e094677fb467row0_col1\" class=\"data row0 col1\" >81.4433</td>\n",
       "                        <td id=\"T_cf579558_9aa1_11ea_98a7_e094677fb467row0_col2\" class=\"data row0 col2\" >158</td>\n",
       "                        <td id=\"T_cf579558_9aa1_11ea_98a7_e094677fb467row0_col3\" class=\"data row0 col3\" >194</td>\n",
       "            </tr>\n",
       "            <tr>\n",
       "                                <td id=\"T_cf579558_9aa1_11ea_98a7_e094677fb467row1_col0\" class=\"data row1 col0\" >שדי תרומות</td>\n",
       "                        <td id=\"T_cf579558_9aa1_11ea_98a7_e094677fb467row1_col1\" class=\"data row1 col1\" >77.7344</td>\n",
       "                        <td id=\"T_cf579558_9aa1_11ea_98a7_e094677fb467row1_col2\" class=\"data row1 col2\" >199</td>\n",
       "                        <td id=\"T_cf579558_9aa1_11ea_98a7_e094677fb467row1_col3\" class=\"data row1 col3\" >256</td>\n",
       "            </tr>\n",
       "            <tr>\n",
       "                                <td id=\"T_cf579558_9aa1_11ea_98a7_e094677fb467row2_col0\" class=\"data row2 col0\" >נועם</td>\n",
       "                        <td id=\"T_cf579558_9aa1_11ea_98a7_e094677fb467row2_col1\" class=\"data row2 col1\" >76.7442</td>\n",
       "                        <td id=\"T_cf579558_9aa1_11ea_98a7_e094677fb467row2_col2\" class=\"data row2 col2\" >165</td>\n",
       "                        <td id=\"T_cf579558_9aa1_11ea_98a7_e094677fb467row2_col3\" class=\"data row2 col3\" >215</td>\n",
       "            </tr>\n",
       "            <tr>\n",
       "                                <td id=\"T_cf579558_9aa1_11ea_98a7_e094677fb467row3_col0\" class=\"data row3 col0\" >גבעולים</td>\n",
       "                        <td id=\"T_cf579558_9aa1_11ea_98a7_e094677fb467row3_col1\" class=\"data row3 col1\" >71.1297</td>\n",
       "                        <td id=\"T_cf579558_9aa1_11ea_98a7_e094677fb467row3_col2\" class=\"data row3 col2\" >170</td>\n",
       "                        <td id=\"T_cf579558_9aa1_11ea_98a7_e094677fb467row3_col3\" class=\"data row3 col3\" >239</td>\n",
       "            </tr>\n",
       "            <tr>\n",
       "                                <td id=\"T_cf579558_9aa1_11ea_98a7_e094677fb467row4_col0\" class=\"data row4 col0\" >דוב\"ב</td>\n",
       "                        <td id=\"T_cf579558_9aa1_11ea_98a7_e094677fb467row4_col1\" class=\"data row4 col1\" >69.4444</td>\n",
       "                        <td id=\"T_cf579558_9aa1_11ea_98a7_e094677fb467row4_col2\" class=\"data row4 col2\" >175</td>\n",
       "                        <td id=\"T_cf579558_9aa1_11ea_98a7_e094677fb467row4_col3\" class=\"data row4 col3\" >252</td>\n",
       "            </tr>\n",
       "    </tbody></table>"
      ],
      "text/plain": [
       "<pandas.io.formats.style.Styler at 0x21e7d7f7608>"
      ]
     },
     "metadata": {},
     "output_type": "display_data"
    },
    {
     "name": "stdout",
     "output_type": "stream",
     "text": [
      "Election22:\n"
     ]
    },
    {
     "data": {
      "text/html": [
       "<style  type=\"text/css\" >\n",
       "</style><table id=\"T_cf598fcc_9aa1_11ea_b082_e094677fb467\" ><thead>    <tr>        <th class=\"col_heading level0 col0\" >area</th>        <th class=\"col_heading level0 col1\" >Percent</th>        <th class=\"col_heading level0 col2\" >מחל</th>        <th class=\"col_heading level0 col3\" >valid</th>    </tr></thead><tbody>\n",
       "                <tr>\n",
       "                                <td id=\"T_cf598fcc_9aa1_11ea_b082_e094677fb467row0_col0\" class=\"data row0 col0\" >שדי תרומות</td>\n",
       "                        <td id=\"T_cf598fcc_9aa1_11ea_b082_e094677fb467row0_col1\" class=\"data row0 col1\" >82.9167</td>\n",
       "                        <td id=\"T_cf598fcc_9aa1_11ea_b082_e094677fb467row0_col2\" class=\"data row0 col2\" >199</td>\n",
       "                        <td id=\"T_cf598fcc_9aa1_11ea_b082_e094677fb467row0_col3\" class=\"data row0 col3\" >240</td>\n",
       "            </tr>\n",
       "            <tr>\n",
       "                                <td id=\"T_cf598fcc_9aa1_11ea_b082_e094677fb467row1_col0\" class=\"data row1 col0\" >גדיש</td>\n",
       "                        <td id=\"T_cf598fcc_9aa1_11ea_b082_e094677fb467row1_col1\" class=\"data row1 col1\" >76.5957</td>\n",
       "                        <td id=\"T_cf598fcc_9aa1_11ea_b082_e094677fb467row1_col2\" class=\"data row1 col2\" >144</td>\n",
       "                        <td id=\"T_cf598fcc_9aa1_11ea_b082_e094677fb467row1_col3\" class=\"data row1 col3\" >188</td>\n",
       "            </tr>\n",
       "            <tr>\n",
       "                                <td id=\"T_cf598fcc_9aa1_11ea_b082_e094677fb467row2_col0\" class=\"data row2 col0\" >רחוב</td>\n",
       "                        <td id=\"T_cf598fcc_9aa1_11ea_b082_e094677fb467row2_col1\" class=\"data row2 col1\" >73.3906</td>\n",
       "                        <td id=\"T_cf598fcc_9aa1_11ea_b082_e094677fb467row2_col2\" class=\"data row2 col2\" >171</td>\n",
       "                        <td id=\"T_cf598fcc_9aa1_11ea_b082_e094677fb467row2_col3\" class=\"data row2 col3\" >233</td>\n",
       "            </tr>\n",
       "            <tr>\n",
       "                                <td id=\"T_cf598fcc_9aa1_11ea_b082_e094677fb467row3_col0\" class=\"data row3 col0\" >אליפלט</td>\n",
       "                        <td id=\"T_cf598fcc_9aa1_11ea_b082_e094677fb467row3_col1\" class=\"data row3 col1\" >70.3593</td>\n",
       "                        <td id=\"T_cf598fcc_9aa1_11ea_b082_e094677fb467row3_col2\" class=\"data row3 col2\" >235</td>\n",
       "                        <td id=\"T_cf598fcc_9aa1_11ea_b082_e094677fb467row3_col3\" class=\"data row3 col3\" >334</td>\n",
       "            </tr>\n",
       "            <tr>\n",
       "                                <td id=\"T_cf598fcc_9aa1_11ea_b082_e094677fb467row4_col0\" class=\"data row4 col0\" >דוב\"ב</td>\n",
       "                        <td id=\"T_cf598fcc_9aa1_11ea_b082_e094677fb467row4_col1\" class=\"data row4 col1\" >69.8795</td>\n",
       "                        <td id=\"T_cf598fcc_9aa1_11ea_b082_e094677fb467row4_col2\" class=\"data row4 col2\" >174</td>\n",
       "                        <td id=\"T_cf598fcc_9aa1_11ea_b082_e094677fb467row4_col3\" class=\"data row4 col3\" >249</td>\n",
       "            </tr>\n",
       "    </tbody></table>"
      ],
      "text/plain": [
       "<pandas.io.formats.style.Styler at 0x21e7dc70ec8>"
      ]
     },
     "metadata": {},
     "output_type": "display_data"
    },
    {
     "name": "stdout",
     "output_type": "stream",
     "text": [
      "Election23:\n"
     ]
    },
    {
     "data": {
      "text/html": [
       "<style  type=\"text/css\" >\n",
       "</style><table id=\"T_cf5c9b12_9aa1_11ea_b8f9_e094677fb467\" ><thead>    <tr>        <th class=\"col_heading level0 col0\" >area</th>        <th class=\"col_heading level0 col1\" >Percent</th>        <th class=\"col_heading level0 col2\" >מחל</th>        <th class=\"col_heading level0 col3\" >valid</th>    </tr></thead><tbody>\n",
       "                <tr>\n",
       "                                <td id=\"T_cf5c9b12_9aa1_11ea_b8f9_e094677fb467row0_col0\" class=\"data row0 col0\" >שדי תרומות</td>\n",
       "                        <td id=\"T_cf5c9b12_9aa1_11ea_b8f9_e094677fb467row0_col1\" class=\"data row0 col1\" >87.2659</td>\n",
       "                        <td id=\"T_cf5c9b12_9aa1_11ea_b8f9_e094677fb467row0_col2\" class=\"data row0 col2\" >233</td>\n",
       "                        <td id=\"T_cf5c9b12_9aa1_11ea_b8f9_e094677fb467row0_col3\" class=\"data row0 col3\" >267</td>\n",
       "            </tr>\n",
       "            <tr>\n",
       "                                <td id=\"T_cf5c9b12_9aa1_11ea_b8f9_e094677fb467row1_col0\" class=\"data row1 col0\" >גדיש</td>\n",
       "                        <td id=\"T_cf5c9b12_9aa1_11ea_b8f9_e094677fb467row1_col1\" class=\"data row1 col1\" >80</td>\n",
       "                        <td id=\"T_cf5c9b12_9aa1_11ea_b8f9_e094677fb467row1_col2\" class=\"data row1 col2\" >168</td>\n",
       "                        <td id=\"T_cf5c9b12_9aa1_11ea_b8f9_e094677fb467row1_col3\" class=\"data row1 col3\" >210</td>\n",
       "            </tr>\n",
       "            <tr>\n",
       "                                <td id=\"T_cf5c9b12_9aa1_11ea_b8f9_e094677fb467row2_col0\" class=\"data row2 col0\" >איבים</td>\n",
       "                        <td id=\"T_cf5c9b12_9aa1_11ea_b8f9_e094677fb467row2_col1\" class=\"data row2 col1\" >80</td>\n",
       "                        <td id=\"T_cf5c9b12_9aa1_11ea_b8f9_e094677fb467row2_col2\" class=\"data row2 col2\" >28</td>\n",
       "                        <td id=\"T_cf5c9b12_9aa1_11ea_b8f9_e094677fb467row2_col3\" class=\"data row2 col3\" >35</td>\n",
       "            </tr>\n",
       "            <tr>\n",
       "                                <td id=\"T_cf5c9b12_9aa1_11ea_b8f9_e094677fb467row3_col0\" class=\"data row3 col0\" >רחוב</td>\n",
       "                        <td id=\"T_cf5c9b12_9aa1_11ea_b8f9_e094677fb467row3_col1\" class=\"data row3 col1\" >78.8618</td>\n",
       "                        <td id=\"T_cf5c9b12_9aa1_11ea_b8f9_e094677fb467row3_col2\" class=\"data row3 col2\" >194</td>\n",
       "                        <td id=\"T_cf5c9b12_9aa1_11ea_b8f9_e094677fb467row3_col3\" class=\"data row3 col3\" >246</td>\n",
       "            </tr>\n",
       "            <tr>\n",
       "                                <td id=\"T_cf5c9b12_9aa1_11ea_b8f9_e094677fb467row4_col0\" class=\"data row4 col0\" >דובב</td>\n",
       "                        <td id=\"T_cf5c9b12_9aa1_11ea_b8f9_e094677fb467row4_col1\" class=\"data row4 col1\" >78.8</td>\n",
       "                        <td id=\"T_cf5c9b12_9aa1_11ea_b8f9_e094677fb467row4_col2\" class=\"data row4 col2\" >197</td>\n",
       "                        <td id=\"T_cf5c9b12_9aa1_11ea_b8f9_e094677fb467row4_col3\" class=\"data row4 col3\" >250</td>\n",
       "            </tr>\n",
       "    </tbody></table>"
      ],
      "text/plain": [
       "<pandas.io.formats.style.Styler at 0x21e77c85d88>"
      ]
     },
     "metadata": {},
     "output_type": "display_data"
    }
   ],
   "source": [
    "print(\"Election21:\")\n",
    "display(election21.assign(Percent = 100 * election21['מחל'] / election21['valid']).sort_values('Percent', ascending=False).loc[(election21[\"voters\"] < 2000), [\"area\", \"Percent\", \"מחל\", \"valid\"]].iloc[:5].style.hide_index())\n",
    "print(\"Election22:\")\n",
    "display(election22.assign(Percent = 100 * election22['מחל'] / election22['valid']).sort_values('Percent', ascending=False).loc[(election22[\"voters\"] < 2000), [\"area\", \"Percent\", \"מחל\", \"valid\"]].iloc[:5].style.hide_index())\n",
    "print(\"Election23:\")\n",
    "display(election23.assign(Percent = 100 * election23['מחל'] / election23['valid']).sort_values('Percent', ascending=False).loc[(election23[\"voters\"] < 2000), [\"area\", \"Percent\", \"מחל\", \"valid\"]].iloc[:5].style.hide_index())"
   ]
  },
  {
   "cell_type": "markdown",
   "metadata": {},
   "source": [
    "### Election23: Top 5 places with the highest valid votes percentage for \"פה\", and total votes less than 2k"
   ]
  },
  {
   "cell_type": "code",
   "execution_count": 12,
   "metadata": {},
   "outputs": [
    {
     "name": "stdout",
     "output_type": "stream",
     "text": [
      "Election21:\n"
     ]
    },
    {
     "data": {
      "text/html": [
       "<style  type=\"text/css\" >\n",
       "</style><table id=\"T_d010a926_9aa1_11ea_9aea_e094677fb467\" ><thead>    <tr>        <th class=\"col_heading level0 col0\" >area</th>        <th class=\"col_heading level0 col1\" >Percent</th>        <th class=\"col_heading level0 col2\" >פה</th>        <th class=\"col_heading level0 col3\" >valid</th>    </tr></thead><tbody>\n",
       "                <tr>\n",
       "                                <td id=\"T_d010a926_9aa1_11ea_9aea_e094677fb467row0_col0\" class=\"data row0 col0\" >פארן</td>\n",
       "                        <td id=\"T_d010a926_9aa1_11ea_9aea_e094677fb467row0_col1\" class=\"data row0 col1\" >72</td>\n",
       "                        <td id=\"T_d010a926_9aa1_11ea_9aea_e094677fb467row0_col2\" class=\"data row0 col2\" >198</td>\n",
       "                        <td id=\"T_d010a926_9aa1_11ea_9aea_e094677fb467row0_col3\" class=\"data row0 col3\" >275</td>\n",
       "            </tr>\n",
       "            <tr>\n",
       "                                <td id=\"T_d010a926_9aa1_11ea_9aea_e094677fb467row1_col0\" class=\"data row1 col0\" >אלמגור</td>\n",
       "                        <td id=\"T_d010a926_9aa1_11ea_9aea_e094677fb467row1_col1\" class=\"data row1 col1\" >69.697</td>\n",
       "                        <td id=\"T_d010a926_9aa1_11ea_9aea_e094677fb467row1_col2\" class=\"data row1 col2\" >161</td>\n",
       "                        <td id=\"T_d010a926_9aa1_11ea_9aea_e094677fb467row1_col3\" class=\"data row1 col3\" >231</td>\n",
       "            </tr>\n",
       "            <tr>\n",
       "                                <td id=\"T_d010a926_9aa1_11ea_9aea_e094677fb467row2_col0\" class=\"data row2 col0\" >גבעת שפירא</td>\n",
       "                        <td id=\"T_d010a926_9aa1_11ea_9aea_e094677fb467row2_col1\" class=\"data row2 col1\" >69.6429</td>\n",
       "                        <td id=\"T_d010a926_9aa1_11ea_9aea_e094677fb467row2_col2\" class=\"data row2 col2\" >117</td>\n",
       "                        <td id=\"T_d010a926_9aa1_11ea_9aea_e094677fb467row2_col3\" class=\"data row2 col3\" >168</td>\n",
       "            </tr>\n",
       "            <tr>\n",
       "                                <td id=\"T_d010a926_9aa1_11ea_9aea_e094677fb467row3_col0\" class=\"data row3 col0\" >היוגב</td>\n",
       "                        <td id=\"T_d010a926_9aa1_11ea_9aea_e094677fb467row3_col1\" class=\"data row3 col1\" >69.5842</td>\n",
       "                        <td id=\"T_d010a926_9aa1_11ea_9aea_e094677fb467row3_col2\" class=\"data row3 col2\" >318</td>\n",
       "                        <td id=\"T_d010a926_9aa1_11ea_9aea_e094677fb467row3_col3\" class=\"data row3 col3\" >457</td>\n",
       "            </tr>\n",
       "            <tr>\n",
       "                                <td id=\"T_d010a926_9aa1_11ea_9aea_e094677fb467row4_col0\" class=\"data row4 col0\" >עין יהב</td>\n",
       "                        <td id=\"T_d010a926_9aa1_11ea_9aea_e094677fb467row4_col1\" class=\"data row4 col1\" >69.3467</td>\n",
       "                        <td id=\"T_d010a926_9aa1_11ea_9aea_e094677fb467row4_col2\" class=\"data row4 col2\" >276</td>\n",
       "                        <td id=\"T_d010a926_9aa1_11ea_9aea_e094677fb467row4_col3\" class=\"data row4 col3\" >398</td>\n",
       "            </tr>\n",
       "    </tbody></table>"
      ],
      "text/plain": [
       "<pandas.io.formats.style.Styler at 0x21e7d811d88>"
      ]
     },
     "metadata": {},
     "output_type": "display_data"
    },
    {
     "name": "stdout",
     "output_type": "stream",
     "text": [
      "Election22:\n"
     ]
    },
    {
     "data": {
      "text/html": [
       "<style  type=\"text/css\" >\n",
       "</style><table id=\"T_d012a37a_9aa1_11ea_8297_e094677fb467\" ><thead>    <tr>        <th class=\"col_heading level0 col0\" >area</th>        <th class=\"col_heading level0 col1\" >Percent</th>        <th class=\"col_heading level0 col2\" >פה</th>        <th class=\"col_heading level0 col3\" >valid</th>    </tr></thead><tbody>\n",
       "                <tr>\n",
       "                                <td id=\"T_d012a37a_9aa1_11ea_8297_e094677fb467row0_col0\" class=\"data row0 col0\" >גבעת שפירא</td>\n",
       "                        <td id=\"T_d012a37a_9aa1_11ea_8297_e094677fb467row0_col1\" class=\"data row0 col1\" >69.8795</td>\n",
       "                        <td id=\"T_d012a37a_9aa1_11ea_8297_e094677fb467row0_col2\" class=\"data row0 col2\" >116</td>\n",
       "                        <td id=\"T_d012a37a_9aa1_11ea_8297_e094677fb467row0_col3\" class=\"data row0 col3\" >166</td>\n",
       "            </tr>\n",
       "            <tr>\n",
       "                                <td id=\"T_d012a37a_9aa1_11ea_8297_e094677fb467row1_col0\" class=\"data row1 col0\" >כפר כמא</td>\n",
       "                        <td id=\"T_d012a37a_9aa1_11ea_8297_e094677fb467row1_col1\" class=\"data row1 col1\" >69.5187</td>\n",
       "                        <td id=\"T_d012a37a_9aa1_11ea_8297_e094677fb467row1_col2\" class=\"data row1 col2\" >780</td>\n",
       "                        <td id=\"T_d012a37a_9aa1_11ea_8297_e094677fb467row1_col3\" class=\"data row1 col3\" >1122</td>\n",
       "            </tr>\n",
       "            <tr>\n",
       "                                <td id=\"T_d012a37a_9aa1_11ea_8297_e094677fb467row2_col0\" class=\"data row2 col0\" >מחנה יוכבד</td>\n",
       "                        <td id=\"T_d012a37a_9aa1_11ea_8297_e094677fb467row2_col1\" class=\"data row2 col1\" >69.0141</td>\n",
       "                        <td id=\"T_d012a37a_9aa1_11ea_8297_e094677fb467row2_col2\" class=\"data row2 col2\" >49</td>\n",
       "                        <td id=\"T_d012a37a_9aa1_11ea_8297_e094677fb467row2_col3\" class=\"data row2 col3\" >71</td>\n",
       "            </tr>\n",
       "            <tr>\n",
       "                                <td id=\"T_d012a37a_9aa1_11ea_8297_e094677fb467row3_col0\" class=\"data row3 col0\" >אלמגור</td>\n",
       "                        <td id=\"T_d012a37a_9aa1_11ea_8297_e094677fb467row3_col1\" class=\"data row3 col1\" >68.8034</td>\n",
       "                        <td id=\"T_d012a37a_9aa1_11ea_8297_e094677fb467row3_col2\" class=\"data row3 col2\" >161</td>\n",
       "                        <td id=\"T_d012a37a_9aa1_11ea_8297_e094677fb467row3_col3\" class=\"data row3 col3\" >234</td>\n",
       "            </tr>\n",
       "            <tr>\n",
       "                                <td id=\"T_d012a37a_9aa1_11ea_8297_e094677fb467row4_col0\" class=\"data row4 col0\" >עין יהב</td>\n",
       "                        <td id=\"T_d012a37a_9aa1_11ea_8297_e094677fb467row4_col1\" class=\"data row4 col1\" >68.5</td>\n",
       "                        <td id=\"T_d012a37a_9aa1_11ea_8297_e094677fb467row4_col2\" class=\"data row4 col2\" >274</td>\n",
       "                        <td id=\"T_d012a37a_9aa1_11ea_8297_e094677fb467row4_col3\" class=\"data row4 col3\" >400</td>\n",
       "            </tr>\n",
       "    </tbody></table>"
      ],
      "text/plain": [
       "<pandas.io.formats.style.Styler at 0x21e7d80ae88>"
      ]
     },
     "metadata": {},
     "output_type": "display_data"
    },
    {
     "name": "stdout",
     "output_type": "stream",
     "text": [
      "Election23:\n"
     ]
    },
    {
     "data": {
      "text/html": [
       "<style  type=\"text/css\" >\n",
       "</style><table id=\"T_d014ec22_9aa1_11ea_9092_e094677fb467\" ><thead>    <tr>        <th class=\"col_heading level0 col0\" >area</th>        <th class=\"col_heading level0 col1\" >Percent</th>        <th class=\"col_heading level0 col2\" >פה</th>        <th class=\"col_heading level0 col3\" >valid</th>    </tr></thead><tbody>\n",
       "                <tr>\n",
       "                                <td id=\"T_d014ec22_9aa1_11ea_9092_e094677fb467row0_col0\" class=\"data row0 col0\" >עין יהב</td>\n",
       "                        <td id=\"T_d014ec22_9aa1_11ea_9092_e094677fb467row0_col1\" class=\"data row0 col1\" >77.9793</td>\n",
       "                        <td id=\"T_d014ec22_9aa1_11ea_9092_e094677fb467row0_col2\" class=\"data row0 col2\" >301</td>\n",
       "                        <td id=\"T_d014ec22_9aa1_11ea_9092_e094677fb467row0_col3\" class=\"data row0 col3\" >386</td>\n",
       "            </tr>\n",
       "            <tr>\n",
       "                                <td id=\"T_d014ec22_9aa1_11ea_9092_e094677fb467row1_col0\" class=\"data row1 col0\" >אלמגור</td>\n",
       "                        <td id=\"T_d014ec22_9aa1_11ea_9092_e094677fb467row1_col1\" class=\"data row1 col1\" >77.1689</td>\n",
       "                        <td id=\"T_d014ec22_9aa1_11ea_9092_e094677fb467row1_col2\" class=\"data row1 col2\" >169</td>\n",
       "                        <td id=\"T_d014ec22_9aa1_11ea_9092_e094677fb467row1_col3\" class=\"data row1 col3\" >219</td>\n",
       "            </tr>\n",
       "            <tr>\n",
       "                                <td id=\"T_d014ec22_9aa1_11ea_9092_e094677fb467row2_col0\" class=\"data row2 col0\" >היוגב</td>\n",
       "                        <td id=\"T_d014ec22_9aa1_11ea_9092_e094677fb467row2_col1\" class=\"data row2 col1\" >76.5517</td>\n",
       "                        <td id=\"T_d014ec22_9aa1_11ea_9092_e094677fb467row2_col2\" class=\"data row2 col2\" >333</td>\n",
       "                        <td id=\"T_d014ec22_9aa1_11ea_9092_e094677fb467row2_col3\" class=\"data row2 col3\" >435</td>\n",
       "            </tr>\n",
       "            <tr>\n",
       "                                <td id=\"T_d014ec22_9aa1_11ea_9092_e094677fb467row3_col0\" class=\"data row3 col0\" >פארן</td>\n",
       "                        <td id=\"T_d014ec22_9aa1_11ea_9092_e094677fb467row3_col1\" class=\"data row3 col1\" >75.2896</td>\n",
       "                        <td id=\"T_d014ec22_9aa1_11ea_9092_e094677fb467row3_col2\" class=\"data row3 col2\" >195</td>\n",
       "                        <td id=\"T_d014ec22_9aa1_11ea_9092_e094677fb467row3_col3\" class=\"data row3 col3\" >259</td>\n",
       "            </tr>\n",
       "            <tr>\n",
       "                                <td id=\"T_d014ec22_9aa1_11ea_9092_e094677fb467row4_col0\" class=\"data row4 col0\" >עין ורד</td>\n",
       "                        <td id=\"T_d014ec22_9aa1_11ea_9092_e094677fb467row4_col1\" class=\"data row4 col1\" >75.1479</td>\n",
       "                        <td id=\"T_d014ec22_9aa1_11ea_9092_e094677fb467row4_col2\" class=\"data row4 col2\" >635</td>\n",
       "                        <td id=\"T_d014ec22_9aa1_11ea_9092_e094677fb467row4_col3\" class=\"data row4 col3\" >845</td>\n",
       "            </tr>\n",
       "    </tbody></table>"
      ],
      "text/plain": [
       "<pandas.io.formats.style.Styler at 0x21e77c74748>"
      ]
     },
     "metadata": {},
     "output_type": "display_data"
    }
   ],
   "source": [
    "print(\"Election21:\")\n",
    "display(election21.assign(Percent = 100 * election21['פה'] / election21['valid']).sort_values('Percent', ascending=False).loc[(election21[\"voters\"] < 2000), [\"area\", \"Percent\", \"פה\", \"valid\"]].iloc[:5].style.hide_index())\n",
    "print(\"Election22:\")\n",
    "display(election22.assign(Percent = 100 * election22['פה'] / election22['valid']).sort_values('Percent', ascending=False).loc[(election22[\"voters\"] < 2000), [\"area\", \"Percent\", \"פה\", \"valid\"]].iloc[:5].style.hide_index())\n",
    "print(\"Election23:\")\n",
    "display(election23.assign(Percent = 100 * election23['פה'] / election23['valid']).sort_values('Percent', ascending=False).loc[(election23[\"voters\"] < 2000), [\"area\", \"Percent\", \"פה\", \"valid\"]].iloc[:5].style.hide_index())"
   ]
  },
  {
   "cell_type": "markdown",
   "metadata": {},
   "source": [
    "### Parties' votes by election"
   ]
  },
  {
   "cell_type": "code",
   "execution_count": 7,
   "metadata": {
    "scrolled": false
   },
   "outputs": [
    {
     "data": {
      "image/png": "[encoded data removed]",
      "text/plain": [
       "<Figure size 1800x432 with 3 Axes>"
      ]
     },
     "metadata": {
      "needs_background": "light"
     },
     "output_type": "display_data"
    },
    {
     "data": {
      "text/plain": [
       "'Election 21'"
      ]
     },
     "metadata": {},
     "output_type": "display_data"
    },
    {
     "data": {
      "text/html": [
       "<style  type=\"text/css\" >\n",
       "</style><table id=\"T_39f3fb94_a06a_11ea_b8f9_204747736431\" ><thead>    <tr>        <th class=\"col_heading level0 col0\" >אמת</th>        <th class=\"col_heading level0 col1\" >ג</th>        <th class=\"col_heading level0 col2\" >ודעם</th>        <th class=\"col_heading level0 col3\" >ום</th>        <th class=\"col_heading level0 col4\" >ז</th>        <th class=\"col_heading level0 col5\" >זי</th>        <th class=\"col_heading level0 col6\" >זך</th>        <th class=\"col_heading level0 col7\" >זץ</th>        <th class=\"col_heading level0 col8\" >טב</th>        <th class=\"col_heading level0 col9\" >י</th>        <th class=\"col_heading level0 col10\" >יז</th>        <th class=\"col_heading level0 col11\" >ין</th>        <th class=\"col_heading level0 col12\" >יץ</th>        <th class=\"col_heading level0 col13\" >כ</th>        <th class=\"col_heading level0 col14\" >ךק</th>        <th class=\"col_heading level0 col15\" >ל</th>        <th class=\"col_heading level0 col16\" >מחל</th>        <th class=\"col_heading level0 col17\" >מרצ</th>        <th class=\"col_heading level0 col18\" >נ</th>        <th class=\"col_heading level0 col19\" >נז</th>        <th class=\"col_heading level0 col20\" >נץ</th>        <th class=\"col_heading level0 col21\" >נר</th>        <th class=\"col_heading level0 col22\" >ן</th>        <th class=\"col_heading level0 col23\" >ןך</th>        <th class=\"col_heading level0 col24\" >ןנ</th>        <th class=\"col_heading level0 col25\" >פה</th>        <th class=\"col_heading level0 col26\" >ףז</th>        <th class=\"col_heading level0 col27\" >ףי</th>        <th class=\"col_heading level0 col28\" >ףך</th>        <th class=\"col_heading level0 col29\" >ףנ</th>        <th class=\"col_heading level0 col30\" >ףץ</th>        <th class=\"col_heading level0 col31\" >צק</th>        <th class=\"col_heading level0 col32\" >ץ</th>        <th class=\"col_heading level0 col33\" >ץי</th>        <th class=\"col_heading level0 col34\" >ק</th>        <th class=\"col_heading level0 col35\" >קי</th>        <th class=\"col_heading level0 col36\" >קן</th>        <th class=\"col_heading level0 col37\" >קף</th>        <th class=\"col_heading level0 col38\" >ר</th>        <th class=\"col_heading level0 col39\" >שס</th>    </tr></thead><tbody>\n",
       "                <tr>\n",
       "                                <td id=\"T_39f3fb94_a06a_11ea_b8f9_204747736431row0_col0\" class=\"data row0 col0\" >190870</td>\n",
       "                        <td id=\"T_39f3fb94_a06a_11ea_b8f9_204747736431row0_col1\" class=\"data row0 col1\" >249049</td>\n",
       "                        <td id=\"T_39f3fb94_a06a_11ea_b8f9_204747736431row0_col2\" class=\"data row0 col2\" >143666</td>\n",
       "                        <td id=\"T_39f3fb94_a06a_11ea_b8f9_204747736431row0_col3\" class=\"data row0 col3\" >193442</td>\n",
       "                        <td id=\"T_39f3fb94_a06a_11ea_b8f9_204747736431row0_col4\" class=\"data row0 col4\" >118031</td>\n",
       "                        <td id=\"T_39f3fb94_a06a_11ea_b8f9_204747736431row0_col5\" class=\"data row0 col5\" >1168</td>\n",
       "                        <td id=\"T_39f3fb94_a06a_11ea_b8f9_204747736431row0_col6\" class=\"data row0 col6\" >216</td>\n",
       "                        <td id=\"T_39f3fb94_a06a_11ea_b8f9_204747736431row0_col7\" class=\"data row0 col7\" >2417</td>\n",
       "                        <td id=\"T_39f3fb94_a06a_11ea_b8f9_204747736431row0_col8\" class=\"data row0 col8\" >159468</td>\n",
       "                        <td id=\"T_39f3fb94_a06a_11ea_b8f9_204747736431row0_col9\" class=\"data row0 col9\" >1438</td>\n",
       "                        <td id=\"T_39f3fb94_a06a_11ea_b8f9_204747736431row0_col10\" class=\"data row0 col10\" >353</td>\n",
       "                        <td id=\"T_39f3fb94_a06a_11ea_b8f9_204747736431row0_col11\" class=\"data row0 col11\" >265</td>\n",
       "                        <td id=\"T_39f3fb94_a06a_11ea_b8f9_204747736431row0_col12\" class=\"data row0 col12\" >428</td>\n",
       "                        <td id=\"T_39f3fb94_a06a_11ea_b8f9_204747736431row0_col13\" class=\"data row0 col13\" >152756</td>\n",
       "                        <td id=\"T_39f3fb94_a06a_11ea_b8f9_204747736431row0_col14\" class=\"data row0 col14\" >562</td>\n",
       "                        <td id=\"T_39f3fb94_a06a_11ea_b8f9_204747736431row0_col15\" class=\"data row0 col15\" >173004</td>\n",
       "                        <td id=\"T_39f3fb94_a06a_11ea_b8f9_204747736431row0_col16\" class=\"data row0 col16\" >1140370</td>\n",
       "                        <td id=\"T_39f3fb94_a06a_11ea_b8f9_204747736431row0_col17\" class=\"data row0 col17\" >156473</td>\n",
       "                        <td id=\"T_39f3fb94_a06a_11ea_b8f9_204747736431row0_col18\" class=\"data row0 col18\" >138598</td>\n",
       "                        <td id=\"T_39f3fb94_a06a_11ea_b8f9_204747736431row0_col19\" class=\"data row0 col19\" >1316</td>\n",
       "                        <td id=\"T_39f3fb94_a06a_11ea_b8f9_204747736431row0_col20\" class=\"data row0 col20\" >3394</td>\n",
       "                        <td id=\"T_39f3fb94_a06a_11ea_b8f9_204747736431row0_col21\" class=\"data row0 col21\" >74701</td>\n",
       "                        <td id=\"T_39f3fb94_a06a_11ea_b8f9_204747736431row0_col22\" class=\"data row0 col22\" >4618</td>\n",
       "                        <td id=\"T_39f3fb94_a06a_11ea_b8f9_204747736431row0_col23\" class=\"data row0 col23\" >404</td>\n",
       "                        <td id=\"T_39f3fb94_a06a_11ea_b8f9_204747736431row0_col24\" class=\"data row0 col24\" >385</td>\n",
       "                        <td id=\"T_39f3fb94_a06a_11ea_b8f9_204747736431row0_col25\" class=\"data row0 col25\" >1125881</td>\n",
       "                        <td id=\"T_39f3fb94_a06a_11ea_b8f9_204747736431row0_col26\" class=\"data row0 col26\" >819</td>\n",
       "                        <td id=\"T_39f3fb94_a06a_11ea_b8f9_204747736431row0_col27\" class=\"data row0 col27\" >733</td>\n",
       "                        <td id=\"T_39f3fb94_a06a_11ea_b8f9_204747736431row0_col28\" class=\"data row0 col28\" >518</td>\n",
       "                        <td id=\"T_39f3fb94_a06a_11ea_b8f9_204747736431row0_col29\" class=\"data row0 col29\" >401</td>\n",
       "                        <td id=\"T_39f3fb94_a06a_11ea_b8f9_204747736431row0_col30\" class=\"data row0 col30\" >624</td>\n",
       "                        <td id=\"T_39f3fb94_a06a_11ea_b8f9_204747736431row0_col31\" class=\"data row0 col31\" >3843</td>\n",
       "                        <td id=\"T_39f3fb94_a06a_11ea_b8f9_204747736431row0_col32\" class=\"data row0 col32\" >556</td>\n",
       "                        <td id=\"T_39f3fb94_a06a_11ea_b8f9_204747736431row0_col33\" class=\"data row0 col33\" >368</td>\n",
       "                        <td id=\"T_39f3fb94_a06a_11ea_b8f9_204747736431row0_col34\" class=\"data row0 col34\" >3281</td>\n",
       "                        <td id=\"T_39f3fb94_a06a_11ea_b8f9_204747736431row0_col35\" class=\"data row0 col35\" >701</td>\n",
       "                        <td id=\"T_39f3fb94_a06a_11ea_b8f9_204747736431row0_col36\" class=\"data row0 col36\" >603</td>\n",
       "                        <td id=\"T_39f3fb94_a06a_11ea_b8f9_204747736431row0_col37\" class=\"data row0 col37\" >1140</td>\n",
       "                        <td id=\"T_39f3fb94_a06a_11ea_b8f9_204747736431row0_col38\" class=\"data row0 col38\" >4135</td>\n",
       "                        <td id=\"T_39f3fb94_a06a_11ea_b8f9_204747736431row0_col39\" class=\"data row0 col39\" >258275</td>\n",
       "            </tr>\n",
       "    </tbody></table>"
      ],
      "text/plain": [
       "<pandas.io.formats.style.Styler at 0x1608e7cfec8>"
      ]
     },
     "metadata": {},
     "output_type": "display_data"
    },
    {
     "data": {
      "text/plain": [
       "'Election 22'"
      ]
     },
     "metadata": {},
     "output_type": "display_data"
    },
    {
     "data": {
      "text/html": [
       "<style  type=\"text/css\" >\n",
       "</style><table id=\"T_39f6696e_a06a_11ea_9aea_204747736431\" ><thead>    <tr>        <th class=\"col_heading level0 col0\" >אמת</th>        <th class=\"col_heading level0 col1\" >ג</th>        <th class=\"col_heading level0 col2\" >ודעם</th>        <th class=\"col_heading level0 col3\" >ז</th>        <th class=\"col_heading level0 col4\" >זכ</th>        <th class=\"col_heading level0 col5\" >זץ</th>        <th class=\"col_heading level0 col6\" >טב</th>        <th class=\"col_heading level0 col7\" >י</th>        <th class=\"col_heading level0 col8\" >יז</th>        <th class=\"col_heading level0 col9\" >ינ</th>        <th class=\"col_heading level0 col10\" >יף</th>        <th class=\"col_heading level0 col11\" >יק</th>        <th class=\"col_heading level0 col12\" >כי</th>        <th class=\"col_heading level0 col13\" >כף</th>        <th class=\"col_heading level0 col14\" >ל</th>        <th class=\"col_heading level0 col15\" >מחל</th>        <th class=\"col_heading level0 col16\" >מרצ</th>        <th class=\"col_heading level0 col17\" >נ</th>        <th class=\"col_heading level0 col18\" >נך</th>        <th class=\"col_heading level0 col19\" >פה</th>        <th class=\"col_heading level0 col20\" >ףז</th>        <th class=\"col_heading level0 col21\" >צ</th>        <th class=\"col_heading level0 col22\" >צן</th>        <th class=\"col_heading level0 col23\" >ץ</th>        <th class=\"col_heading level0 col24\" >ק</th>        <th class=\"col_heading level0 col25\" >קך</th>        <th class=\"col_heading level0 col26\" >קץ</th>        <th class=\"col_heading level0 col27\" >רק</th>        <th class=\"col_heading level0 col28\" >שס</th>    </tr></thead><tbody>\n",
       "                <tr>\n",
       "                                <td id=\"T_39f6696e_a06a_11ea_9aea_204747736431row0_col0\" class=\"data row0 col0\" >212782</td>\n",
       "                        <td id=\"T_39f6696e_a06a_11ea_9aea_204747736431row0_col1\" class=\"data row0 col1\" >268775</td>\n",
       "                        <td id=\"T_39f6696e_a06a_11ea_9aea_204747736431row0_col2\" class=\"data row0 col2\" >470211</td>\n",
       "                        <td id=\"T_39f6696e_a06a_11ea_9aea_204747736431row0_col3\" class=\"data row0 col3\" >1193</td>\n",
       "                        <td id=\"T_39f6696e_a06a_11ea_9aea_204747736431row0_col4\" class=\"data row0 col4\" >736</td>\n",
       "                        <td id=\"T_39f6696e_a06a_11ea_9aea_204747736431row0_col5\" class=\"data row0 col5\" >14805</td>\n",
       "                        <td id=\"T_39f6696e_a06a_11ea_9aea_204747736431row0_col6\" class=\"data row0 col6\" >260655</td>\n",
       "                        <td id=\"T_39f6696e_a06a_11ea_9aea_204747736431row0_col7\" class=\"data row0 col7\" >434</td>\n",
       "                        <td id=\"T_39f6696e_a06a_11ea_9aea_204747736431row0_col8\" class=\"data row0 col8\" >4358</td>\n",
       "                        <td id=\"T_39f6696e_a06a_11ea_9aea_204747736431row0_col9\" class=\"data row0 col9\" >610</td>\n",
       "                        <td id=\"T_39f6696e_a06a_11ea_9aea_204747736431row0_col10\" class=\"data row0 col10\" >542</td>\n",
       "                        <td id=\"T_39f6696e_a06a_11ea_9aea_204747736431row0_col11\" class=\"data row0 col11\" >497</td>\n",
       "                        <td id=\"T_39f6696e_a06a_11ea_9aea_204747736431row0_col12\" class=\"data row0 col12\" >5946</td>\n",
       "                        <td id=\"T_39f6696e_a06a_11ea_9aea_204747736431row0_col13\" class=\"data row0 col13\" >83609</td>\n",
       "                        <td id=\"T_39f6696e_a06a_11ea_9aea_204747736431row0_col14\" class=\"data row0 col14\" >310154</td>\n",
       "                        <td id=\"T_39f6696e_a06a_11ea_9aea_204747736431row0_col15\" class=\"data row0 col15\" >1113617</td>\n",
       "                        <td id=\"T_39f6696e_a06a_11ea_9aea_204747736431row0_col16\" class=\"data row0 col16\" >192495</td>\n",
       "                        <td id=\"T_39f6696e_a06a_11ea_9aea_204747736431row0_col17\" class=\"data row0 col17\" >1033</td>\n",
       "                        <td id=\"T_39f6696e_a06a_11ea_9aea_204747736431row0_col18\" class=\"data row0 col18\" >1545</td>\n",
       "                        <td id=\"T_39f6696e_a06a_11ea_9aea_204747736431row0_col19\" class=\"data row0 col19\" >1151214</td>\n",
       "                        <td id=\"T_39f6696e_a06a_11ea_9aea_204747736431row0_col20\" class=\"data row0 col20\" >1236</td>\n",
       "                        <td id=\"T_39f6696e_a06a_11ea_9aea_204747736431row0_col21\" class=\"data row0 col21\" >3053</td>\n",
       "                        <td id=\"T_39f6696e_a06a_11ea_9aea_204747736431row0_col22\" class=\"data row0 col22\" >725</td>\n",
       "                        <td id=\"T_39f6696e_a06a_11ea_9aea_204747736431row0_col23\" class=\"data row0 col23\" >592</td>\n",
       "                        <td id=\"T_39f6696e_a06a_11ea_9aea_204747736431row0_col24\" class=\"data row0 col24\" >1473</td>\n",
       "                        <td id=\"T_39f6696e_a06a_11ea_9aea_204747736431row0_col25\" class=\"data row0 col25\" >928</td>\n",
       "                        <td id=\"T_39f6696e_a06a_11ea_9aea_204747736431row0_col26\" class=\"data row0 col26\" >994</td>\n",
       "                        <td id=\"T_39f6696e_a06a_11ea_9aea_204747736431row0_col27\" class=\"data row0 col27\" >2395</td>\n",
       "                        <td id=\"T_39f6696e_a06a_11ea_9aea_204747736431row0_col28\" class=\"data row0 col28\" >330199</td>\n",
       "            </tr>\n",
       "    </tbody></table>"
      ],
      "text/plain": [
       "<pandas.io.formats.style.Styler at 0x1608e20c108>"
      ]
     },
     "metadata": {},
     "output_type": "display_data"
    },
    {
     "data": {
      "text/plain": [
       "'Election 23'"
      ]
     },
     "metadata": {},
     "output_type": "display_data"
    },
    {
     "data": {
      "text/html": [
       "<style  type=\"text/css\" >\n",
       "</style><table id=\"T_39f9a7d8_a06a_11ea_8297_204747736431\" ><thead>    <tr>        <th class=\"col_heading level0 col0\" >אמת</th>        <th class=\"col_heading level0 col1\" >ג</th>        <th class=\"col_heading level0 col2\" >ודעם</th>        <th class=\"col_heading level0 col3\" >ז</th>        <th class=\"col_heading level0 col4\" >זך</th>        <th class=\"col_heading level0 col5\" >טב</th>        <th class=\"col_heading level0 col6\" >י</th>        <th class=\"col_heading level0 col7\" >יז</th>        <th class=\"col_heading level0 col8\" >ינ</th>        <th class=\"col_heading level0 col9\" >יף</th>        <th class=\"col_heading level0 col10\" >יק</th>        <th class=\"col_heading level0 col11\" >יר</th>        <th class=\"col_heading level0 col12\" >כ</th>        <th class=\"col_heading level0 col13\" >כן</th>        <th class=\"col_heading level0 col14\" >ל</th>        <th class=\"col_heading level0 col15\" >מחל</th>        <th class=\"col_heading level0 col16\" >נ</th>        <th class=\"col_heading level0 col17\" >נז</th>        <th class=\"col_heading level0 col18\" >ני</th>        <th class=\"col_heading level0 col19\" >נץ</th>        <th class=\"col_heading level0 col20\" >נק</th>        <th class=\"col_heading level0 col21\" >פה</th>        <th class=\"col_heading level0 col22\" >ףז</th>        <th class=\"col_heading level0 col23\" >ץ</th>        <th class=\"col_heading level0 col24\" >ק</th>        <th class=\"col_heading level0 col25\" >קי</th>        <th class=\"col_heading level0 col26\" >קך</th>        <th class=\"col_heading level0 col27\" >קץ</th>        <th class=\"col_heading level0 col28\" >שס</th>    </tr></thead><tbody>\n",
       "                <tr>\n",
       "                                <td id=\"T_39f9a7d8_a06a_11ea_8297_204747736431row0_col0\" class=\"data row0 col0\" >267480</td>\n",
       "                        <td id=\"T_39f9a7d8_a06a_11ea_8297_204747736431row0_col1\" class=\"data row0 col1\" >274437</td>\n",
       "                        <td id=\"T_39f9a7d8_a06a_11ea_8297_204747736431row0_col2\" class=\"data row0 col2\" >581507</td>\n",
       "                        <td id=\"T_39f9a7d8_a06a_11ea_8297_204747736431row0_col3\" class=\"data row0 col3\" >3781</td>\n",
       "                        <td id=\"T_39f9a7d8_a06a_11ea_8297_204747736431row0_col4\" class=\"data row0 col4\" >210</td>\n",
       "                        <td id=\"T_39f9a7d8_a06a_11ea_8297_204747736431row0_col5\" class=\"data row0 col5\" >240689</td>\n",
       "                        <td id=\"T_39f9a7d8_a06a_11ea_8297_204747736431row0_col6\" class=\"data row0 col6\" >308</td>\n",
       "                        <td id=\"T_39f9a7d8_a06a_11ea_8297_204747736431row0_col7\" class=\"data row0 col7\" >342</td>\n",
       "                        <td id=\"T_39f9a7d8_a06a_11ea_8297_204747736431row0_col8\" class=\"data row0 col8\" >677</td>\n",
       "                        <td id=\"T_39f9a7d8_a06a_11ea_8297_204747736431row0_col9\" class=\"data row0 col9\" >222</td>\n",
       "                        <td id=\"T_39f9a7d8_a06a_11ea_8297_204747736431row0_col10\" class=\"data row0 col10\" >389</td>\n",
       "                        <td id=\"T_39f9a7d8_a06a_11ea_8297_204747736431row0_col11\" class=\"data row0 col11\" >271</td>\n",
       "                        <td id=\"T_39f9a7d8_a06a_11ea_8297_204747736431row0_col12\" class=\"data row0 col12\" >516</td>\n",
       "                        <td id=\"T_39f9a7d8_a06a_11ea_8297_204747736431row0_col13\" class=\"data row0 col13\" >812</td>\n",
       "                        <td id=\"T_39f9a7d8_a06a_11ea_8297_204747736431row0_col14\" class=\"data row0 col14\" >263365</td>\n",
       "                        <td id=\"T_39f9a7d8_a06a_11ea_8297_204747736431row0_col15\" class=\"data row0 col15\" >1352449</td>\n",
       "                        <td id=\"T_39f9a7d8_a06a_11ea_8297_204747736431row0_col16\" class=\"data row0 col16\" >2773</td>\n",
       "                        <td id=\"T_39f9a7d8_a06a_11ea_8297_204747736431row0_col17\" class=\"data row0 col17\" >667</td>\n",
       "                        <td id=\"T_39f9a7d8_a06a_11ea_8297_204747736431row0_col18\" class=\"data row0 col18\" >350</td>\n",
       "                        <td id=\"T_39f9a7d8_a06a_11ea_8297_204747736431row0_col19\" class=\"data row0 col19\" >19402</td>\n",
       "                        <td id=\"T_39f9a7d8_a06a_11ea_8297_204747736431row0_col20\" class=\"data row0 col20\" >622</td>\n",
       "                        <td id=\"T_39f9a7d8_a06a_11ea_8297_204747736431row0_col21\" class=\"data row0 col21\" >1220381</td>\n",
       "                        <td id=\"T_39f9a7d8_a06a_11ea_8297_204747736431row0_col22\" class=\"data row0 col22\" >1473</td>\n",
       "                        <td id=\"T_39f9a7d8_a06a_11ea_8297_204747736431row0_col23\" class=\"data row0 col23\" >612</td>\n",
       "                        <td id=\"T_39f9a7d8_a06a_11ea_8297_204747736431row0_col24\" class=\"data row0 col24\" >980</td>\n",
       "                        <td id=\"T_39f9a7d8_a06a_11ea_8297_204747736431row0_col25\" class=\"data row0 col25\" >442</td>\n",
       "                        <td id=\"T_39f9a7d8_a06a_11ea_8297_204747736431row0_col26\" class=\"data row0 col26\" >677</td>\n",
       "                        <td id=\"T_39f9a7d8_a06a_11ea_8297_204747736431row0_col27\" class=\"data row0 col27\" >1375</td>\n",
       "                        <td id=\"T_39f9a7d8_a06a_11ea_8297_204747736431row0_col28\" class=\"data row0 col28\" >352853</td>\n",
       "            </tr>\n",
       "    </tbody></table>"
      ],
      "text/plain": [
       "<pandas.io.formats.style.Styler at 0x1608e1af488>"
      ]
     },
     "metadata": {},
     "output_type": "display_data"
    }
   ],
   "source": [
    "x21, x22, x23 = list(parties21), list(parties22), list(parties23)\n",
    "x21_pos, x22_pos, x23_pos = np.arange(len(x21)), np.arange(len(x22)), np.arange(len(x23))\n",
    "y21, y22, y23 = [], [], []\n",
    "for party in parties21:\n",
    "    y21.append(totalVotes21[party])\n",
    "for party in parties22:\n",
    "    y22.append(totalVotes22[party])\n",
    "for party in parties23:\n",
    "    y23.append(totalVotes23[party])\n",
    "\n",
    "width = 0.6\n",
    "plt.subplot(1, 3, 1)\n",
    "plt.barh(x21_pos, y21, width, color=\"r\")\n",
    "plt.title(\"Election 21\")\n",
    "plt.ylabel(\"Party\")\n",
    "plt.xlabel(\"Num of votes\")\n",
    "plt.yticks(x21_pos, x21)\n",
    "plt.grid()\n",
    "\n",
    "plt.subplot(1, 3, 2)\n",
    "plt.barh(x22_pos, y22, width, color=\"g\")\n",
    "plt.title(\"Election 22\")\n",
    "plt.ylabel(\"Party\")\n",
    "plt.xlabel(\"Num of votes\")\n",
    "plt.yticks(x22_pos, x22)\n",
    "plt.grid()\n",
    "\n",
    "plt.subplot(1, 3, 3)\n",
    "plt.barh(x23_pos, y23, width, color=\"b\")\n",
    "plt.title(\"Election 23\")\n",
    "plt.ylabel(\"Party\")\n",
    "plt.xlabel(\"Num of votes\")\n",
    "plt.yticks(x23_pos, x23)\n",
    "plt.grid()\n",
    "\n",
    "plt.tight_layout()\n",
    "plt.rcParams[\"figure.figsize\"] = (25,6)\n",
    "plt.show()\n",
    "\n",
    "allVotes21 = []\n",
    "for party in parties21:\n",
    "    allVotes21.append(election21[party].sum())\n",
    "sumDf21 = pd.DataFrame([allVotes21], columns=parties21)\n",
    "display(\"Election 21\",sumDf21.style.hide_index())\n",
    "allVotes22 = []\n",
    "for party in parties22:\n",
    "    allVotes22.append(election22[party].sum())\n",
    "sumDf22 = pd.DataFrame([allVotes22], columns=parties22)\n",
    "display(\"Election 22\",sumDf22.style.hide_index())\n",
    "allVotes23 = []\n",
    "for party in parties23:\n",
    "    allVotes23.append(election23[party].sum())\n",
    "sumDf23 = pd.DataFrame([allVotes23], columns=parties23)\n",
    "display(\"Election 23\",sumDf23.style.hide_index())"
   ]
  },
  {
   "cell_type": "markdown",
   "metadata": {},
   "source": [
    "### Pie chart of total valid, invalid and abstained votes"
   ]
  },
  {
   "cell_type": "code",
   "execution_count": 32,
   "metadata": {
    "scrolled": false
   },
   "outputs": [
    {
     "data": {
      "image/png": "[encoded data removed]",
      "text/plain": [
       "<Figure size 1800x432 with 3 Axes>"
      ]
     },
     "metadata": {},
     "output_type": "display_data"
    }
   ],
   "source": [
    "pieLabels = 'Valid', 'Invalid', 'Abstained'\n",
    "\n",
    "plt.subplot(1, 3, 1, title=\"Election 21\")\n",
    "pieValues = [election21[\"valid\"].sum(), election21[\"invalid\"].sum(), election21[\"eligible\"].sum() - election21[\"voters\"].sum()]\n",
    "plt.pie(pieValues, labels=pieLabels, autopct='%1.2f%%')\n",
    "\n",
    "plt.subplot(1, 3, 2, title=\"Election 22\")\n",
    "pieValues = [election22[\"valid\"].sum(), election22[\"invalid\"].sum(), election22[\"eligible\"].sum() - election22[\"voters\"].sum()]\n",
    "plt.pie(pieValues, labels=pieLabels, autopct='%1.2f%%')\n",
    "\n",
    "plt.subplot(1, 3, 3, title=\"Election 23\")\n",
    "pieValues = [election23[\"valid\"].sum(), election23[\"invalid\"].sum(), election23[\"eligible\"].sum() - election23[\"voters\"].sum()]\n",
    "plt.pie(pieValues, labels=pieLabels, autopct='%1.2f%%')\n",
    "\n",
    "plt.axis('scaled')\n",
    "plt.tight_layout()\n",
    "plt.show()"
   ]
  },
  {
   "cell_type": "markdown",
   "metadata": {},
   "source": [
    "### All recurring parties:"
   ]
  },
  {
   "cell_type": "code",
   "execution_count": 8,
   "metadata": {
    "scrolled": true
   },
   "outputs": [
    {
     "data": {
      "text/plain": [
       "'Election 21'"
      ]
     },
     "metadata": {},
     "output_type": "display_data"
    },
    {
     "data": {
      "text/html": [
       "<style  type=\"text/css\" >\n",
       "</style><table id=\"T_3bdd3b94_a06a_11ea_9092_204747736431\" ><thead>    <tr>        <th class=\"col_heading level0 col0\" >ףז</th>        <th class=\"col_heading level0 col1\" >מחל</th>        <th class=\"col_heading level0 col2\" >י</th>        <th class=\"col_heading level0 col3\" >ק</th>        <th class=\"col_heading level0 col4\" >נ</th>        <th class=\"col_heading level0 col5\" >אמת</th>        <th class=\"col_heading level0 col6\" >ז</th>        <th class=\"col_heading level0 col7\" >ץ</th>        <th class=\"col_heading level0 col8\" >ג</th>        <th class=\"col_heading level0 col9\" >ל</th>        <th class=\"col_heading level0 col10\" >שס</th>        <th class=\"col_heading level0 col11\" >ודעם</th>        <th class=\"col_heading level0 col12\" >פה</th>        <th class=\"col_heading level0 col13\" >יז</th>        <th class=\"col_heading level0 col14\" >טב</th>    </tr></thead><tbody>\n",
       "                <tr>\n",
       "                                <td id=\"T_3bdd3b94_a06a_11ea_9092_204747736431row0_col0\" class=\"data row0 col0\" >819</td>\n",
       "                        <td id=\"T_3bdd3b94_a06a_11ea_9092_204747736431row0_col1\" class=\"data row0 col1\" >1140370</td>\n",
       "                        <td id=\"T_3bdd3b94_a06a_11ea_9092_204747736431row0_col2\" class=\"data row0 col2\" >1438</td>\n",
       "                        <td id=\"T_3bdd3b94_a06a_11ea_9092_204747736431row0_col3\" class=\"data row0 col3\" >3281</td>\n",
       "                        <td id=\"T_3bdd3b94_a06a_11ea_9092_204747736431row0_col4\" class=\"data row0 col4\" >138598</td>\n",
       "                        <td id=\"T_3bdd3b94_a06a_11ea_9092_204747736431row0_col5\" class=\"data row0 col5\" >190870</td>\n",
       "                        <td id=\"T_3bdd3b94_a06a_11ea_9092_204747736431row0_col6\" class=\"data row0 col6\" >118031</td>\n",
       "                        <td id=\"T_3bdd3b94_a06a_11ea_9092_204747736431row0_col7\" class=\"data row0 col7\" >556</td>\n",
       "                        <td id=\"T_3bdd3b94_a06a_11ea_9092_204747736431row0_col8\" class=\"data row0 col8\" >249049</td>\n",
       "                        <td id=\"T_3bdd3b94_a06a_11ea_9092_204747736431row0_col9\" class=\"data row0 col9\" >173004</td>\n",
       "                        <td id=\"T_3bdd3b94_a06a_11ea_9092_204747736431row0_col10\" class=\"data row0 col10\" >258275</td>\n",
       "                        <td id=\"T_3bdd3b94_a06a_11ea_9092_204747736431row0_col11\" class=\"data row0 col11\" >143666</td>\n",
       "                        <td id=\"T_3bdd3b94_a06a_11ea_9092_204747736431row0_col12\" class=\"data row0 col12\" >1125881</td>\n",
       "                        <td id=\"T_3bdd3b94_a06a_11ea_9092_204747736431row0_col13\" class=\"data row0 col13\" >353</td>\n",
       "                        <td id=\"T_3bdd3b94_a06a_11ea_9092_204747736431row0_col14\" class=\"data row0 col14\" >159468</td>\n",
       "            </tr>\n",
       "    </tbody></table>"
      ],
      "text/plain": [
       "<pandas.io.formats.style.Styler at 0x1608d8c46c8>"
      ]
     },
     "metadata": {},
     "output_type": "display_data"
    },
    {
     "data": {
      "text/plain": [
       "'Election 22'"
      ]
     },
     "metadata": {},
     "output_type": "display_data"
    },
    {
     "data": {
      "text/html": [
       "<style  type=\"text/css\" >\n",
       "</style><table id=\"T_3bdec0a4_a06a_11ea_bdca_204747736431\" ><thead>    <tr>        <th class=\"col_heading level0 col0\" >ףז</th>        <th class=\"col_heading level0 col1\" >מחל</th>        <th class=\"col_heading level0 col2\" >י</th>        <th class=\"col_heading level0 col3\" >ק</th>        <th class=\"col_heading level0 col4\" >נ</th>        <th class=\"col_heading level0 col5\" >אמת</th>        <th class=\"col_heading level0 col6\" >ז</th>        <th class=\"col_heading level0 col7\" >ץ</th>        <th class=\"col_heading level0 col8\" >ג</th>        <th class=\"col_heading level0 col9\" >ל</th>        <th class=\"col_heading level0 col10\" >שס</th>        <th class=\"col_heading level0 col11\" >ודעם</th>        <th class=\"col_heading level0 col12\" >פה</th>        <th class=\"col_heading level0 col13\" >יז</th>        <th class=\"col_heading level0 col14\" >טב</th>    </tr></thead><tbody>\n",
       "                <tr>\n",
       "                                <td id=\"T_3bdec0a4_a06a_11ea_bdca_204747736431row0_col0\" class=\"data row0 col0\" >1236</td>\n",
       "                        <td id=\"T_3bdec0a4_a06a_11ea_bdca_204747736431row0_col1\" class=\"data row0 col1\" >1113617</td>\n",
       "                        <td id=\"T_3bdec0a4_a06a_11ea_bdca_204747736431row0_col2\" class=\"data row0 col2\" >434</td>\n",
       "                        <td id=\"T_3bdec0a4_a06a_11ea_bdca_204747736431row0_col3\" class=\"data row0 col3\" >1473</td>\n",
       "                        <td id=\"T_3bdec0a4_a06a_11ea_bdca_204747736431row0_col4\" class=\"data row0 col4\" >1033</td>\n",
       "                        <td id=\"T_3bdec0a4_a06a_11ea_bdca_204747736431row0_col5\" class=\"data row0 col5\" >212782</td>\n",
       "                        <td id=\"T_3bdec0a4_a06a_11ea_bdca_204747736431row0_col6\" class=\"data row0 col6\" >1193</td>\n",
       "                        <td id=\"T_3bdec0a4_a06a_11ea_bdca_204747736431row0_col7\" class=\"data row0 col7\" >592</td>\n",
       "                        <td id=\"T_3bdec0a4_a06a_11ea_bdca_204747736431row0_col8\" class=\"data row0 col8\" >268775</td>\n",
       "                        <td id=\"T_3bdec0a4_a06a_11ea_bdca_204747736431row0_col9\" class=\"data row0 col9\" >310154</td>\n",
       "                        <td id=\"T_3bdec0a4_a06a_11ea_bdca_204747736431row0_col10\" class=\"data row0 col10\" >330199</td>\n",
       "                        <td id=\"T_3bdec0a4_a06a_11ea_bdca_204747736431row0_col11\" class=\"data row0 col11\" >470211</td>\n",
       "                        <td id=\"T_3bdec0a4_a06a_11ea_bdca_204747736431row0_col12\" class=\"data row0 col12\" >1151214</td>\n",
       "                        <td id=\"T_3bdec0a4_a06a_11ea_bdca_204747736431row0_col13\" class=\"data row0 col13\" >4358</td>\n",
       "                        <td id=\"T_3bdec0a4_a06a_11ea_bdca_204747736431row0_col14\" class=\"data row0 col14\" >260655</td>\n",
       "            </tr>\n",
       "    </tbody></table>"
      ],
      "text/plain": [
       "<pandas.io.formats.style.Styler at 0x1608e1c2f88>"
      ]
     },
     "metadata": {},
     "output_type": "display_data"
    },
    {
     "data": {
      "text/plain": [
       "'Election 23'"
      ]
     },
     "metadata": {},
     "output_type": "display_data"
    },
    {
     "data": {
      "text/html": [
       "<style  type=\"text/css\" >\n",
       "</style><table id=\"T_3be04666_a06a_11ea_a0b8_204747736431\" ><thead>    <tr>        <th class=\"col_heading level0 col0\" >ףז</th>        <th class=\"col_heading level0 col1\" >מחל</th>        <th class=\"col_heading level0 col2\" >י</th>        <th class=\"col_heading level0 col3\" >ק</th>        <th class=\"col_heading level0 col4\" >נ</th>        <th class=\"col_heading level0 col5\" >אמת</th>        <th class=\"col_heading level0 col6\" >ז</th>        <th class=\"col_heading level0 col7\" >ץ</th>        <th class=\"col_heading level0 col8\" >ג</th>        <th class=\"col_heading level0 col9\" >ל</th>        <th class=\"col_heading level0 col10\" >שס</th>        <th class=\"col_heading level0 col11\" >ודעם</th>        <th class=\"col_heading level0 col12\" >פה</th>        <th class=\"col_heading level0 col13\" >יז</th>        <th class=\"col_heading level0 col14\" >טב</th>    </tr></thead><tbody>\n",
       "                <tr>\n",
       "                                <td id=\"T_3be04666_a06a_11ea_a0b8_204747736431row0_col0\" class=\"data row0 col0\" >1473</td>\n",
       "                        <td id=\"T_3be04666_a06a_11ea_a0b8_204747736431row0_col1\" class=\"data row0 col1\" >1352449</td>\n",
       "                        <td id=\"T_3be04666_a06a_11ea_a0b8_204747736431row0_col2\" class=\"data row0 col2\" >308</td>\n",
       "                        <td id=\"T_3be04666_a06a_11ea_a0b8_204747736431row0_col3\" class=\"data row0 col3\" >980</td>\n",
       "                        <td id=\"T_3be04666_a06a_11ea_a0b8_204747736431row0_col4\" class=\"data row0 col4\" >2773</td>\n",
       "                        <td id=\"T_3be04666_a06a_11ea_a0b8_204747736431row0_col5\" class=\"data row0 col5\" >267480</td>\n",
       "                        <td id=\"T_3be04666_a06a_11ea_a0b8_204747736431row0_col6\" class=\"data row0 col6\" >3781</td>\n",
       "                        <td id=\"T_3be04666_a06a_11ea_a0b8_204747736431row0_col7\" class=\"data row0 col7\" >612</td>\n",
       "                        <td id=\"T_3be04666_a06a_11ea_a0b8_204747736431row0_col8\" class=\"data row0 col8\" >274437</td>\n",
       "                        <td id=\"T_3be04666_a06a_11ea_a0b8_204747736431row0_col9\" class=\"data row0 col9\" >263365</td>\n",
       "                        <td id=\"T_3be04666_a06a_11ea_a0b8_204747736431row0_col10\" class=\"data row0 col10\" >352853</td>\n",
       "                        <td id=\"T_3be04666_a06a_11ea_a0b8_204747736431row0_col11\" class=\"data row0 col11\" >581507</td>\n",
       "                        <td id=\"T_3be04666_a06a_11ea_a0b8_204747736431row0_col12\" class=\"data row0 col12\" >1220381</td>\n",
       "                        <td id=\"T_3be04666_a06a_11ea_a0b8_204747736431row0_col13\" class=\"data row0 col13\" >342</td>\n",
       "                        <td id=\"T_3be04666_a06a_11ea_a0b8_204747736431row0_col14\" class=\"data row0 col14\" >240689</td>\n",
       "            </tr>\n",
       "    </tbody></table>"
      ],
      "text/plain": [
       "<pandas.io.formats.style.Styler at 0x1608e1a47c8>"
      ]
     },
     "metadata": {},
     "output_type": "display_data"
    }
   ],
   "source": [
    "partiesIntersection = list(set(sumDf21.columns).intersection(set(sumDf22.columns)).intersection(set(sumDf23.columns)))\n",
    "display(\"Election 21\",sumDf21[partiesIntersection].style.hide_index())\n",
    "display(\"Election 22\",sumDf22[partiesIntersection].style.hide_index())\n",
    "display(\"Election 23\",sumDf23[partiesIntersection].style.hide_index())"
   ]
  },
  {
   "cell_type": "code",
   "execution_count": 9,
   "metadata": {
    "scrolled": false
   },
   "outputs": [
    {
     "data": {
      "text/html": [
       "<div>\n",
       "<style scoped>\n",
       "    .dataframe tbody tr th:only-of-type {\n",
       "        vertical-align: middle;\n",
       "    }\n",
       "\n",
       "    .dataframe tbody tr th {\n",
       "        vertical-align: top;\n",
       "    }\n",
       "\n",
       "    .dataframe thead th {\n",
       "        text-align: right;\n",
       "    }\n",
       "</style>\n",
       "<table border=\"1\" class=\"dataframe\">\n",
       "  <thead>\n",
       "    <tr style=\"text-align: right;\">\n",
       "      <th></th>\n",
       "      <th>areaId</th>\n",
       "      <th>area</th>\n",
       "      <th>eligible</th>\n",
       "      <th>voters</th>\n",
       "      <th>valid</th>\n",
       "      <th>invalid</th>\n",
       "      <th>ףז</th>\n",
       "      <th>מחל</th>\n",
       "      <th>י</th>\n",
       "      <th>ק</th>\n",
       "      <th>נ</th>\n",
       "      <th>אמת</th>\n",
       "      <th>ז</th>\n",
       "      <th>ץ</th>\n",
       "      <th>ג</th>\n",
       "      <th>ל</th>\n",
       "      <th>שס</th>\n",
       "      <th>ודעם</th>\n",
       "      <th>פה</th>\n",
       "      <th>יז</th>\n",
       "      <th>טב</th>\n",
       "    </tr>\n",
       "  </thead>\n",
       "  <tbody>\n",
       "    <tr>\n",
       "      <td>0</td>\n",
       "      <td>7</td>\n",
       "      <td>שחר</td>\n",
       "      <td>516</td>\n",
       "      <td>0.718992</td>\n",
       "      <td>1.000000</td>\n",
       "      <td>0.000000</td>\n",
       "      <td>0.0</td>\n",
       "      <td>0.380054</td>\n",
       "      <td>0.0</td>\n",
       "      <td>0.000000</td>\n",
       "      <td>0.061995</td>\n",
       "      <td>0.045822</td>\n",
       "      <td>0.021563</td>\n",
       "      <td>0.0</td>\n",
       "      <td>0.005391</td>\n",
       "      <td>0.013477</td>\n",
       "      <td>0.088949</td>\n",
       "      <td>0.0</td>\n",
       "      <td>0.266846</td>\n",
       "      <td>0.0</td>\n",
       "      <td>0.008086</td>\n",
       "    </tr>\n",
       "    <tr>\n",
       "      <td>1</td>\n",
       "      <td>10</td>\n",
       "      <td>תירוש</td>\n",
       "      <td>333</td>\n",
       "      <td>0.711712</td>\n",
       "      <td>0.991561</td>\n",
       "      <td>0.008439</td>\n",
       "      <td>0.0</td>\n",
       "      <td>0.527660</td>\n",
       "      <td>0.0</td>\n",
       "      <td>0.000000</td>\n",
       "      <td>0.017021</td>\n",
       "      <td>0.017021</td>\n",
       "      <td>0.004255</td>\n",
       "      <td>0.0</td>\n",
       "      <td>0.012766</td>\n",
       "      <td>0.000000</td>\n",
       "      <td>0.310638</td>\n",
       "      <td>0.0</td>\n",
       "      <td>0.021277</td>\n",
       "      <td>0.0</td>\n",
       "      <td>0.042553</td>\n",
       "    </tr>\n",
       "    <tr>\n",
       "      <td>2</td>\n",
       "      <td>11</td>\n",
       "      <td>ניר ח\"ן</td>\n",
       "      <td>403</td>\n",
       "      <td>0.717122</td>\n",
       "      <td>0.996540</td>\n",
       "      <td>0.003460</td>\n",
       "      <td>0.0</td>\n",
       "      <td>0.291667</td>\n",
       "      <td>0.0</td>\n",
       "      <td>0.000000</td>\n",
       "      <td>0.059028</td>\n",
       "      <td>0.072917</td>\n",
       "      <td>0.038194</td>\n",
       "      <td>0.0</td>\n",
       "      <td>0.000000</td>\n",
       "      <td>0.006944</td>\n",
       "      <td>0.006944</td>\n",
       "      <td>0.0</td>\n",
       "      <td>0.385417</td>\n",
       "      <td>0.0</td>\n",
       "      <td>0.013889</td>\n",
       "    </tr>\n",
       "    <tr>\n",
       "      <td>3</td>\n",
       "      <td>13</td>\n",
       "      <td>חצבה</td>\n",
       "      <td>502</td>\n",
       "      <td>0.802789</td>\n",
       "      <td>1.000000</td>\n",
       "      <td>0.000000</td>\n",
       "      <td>0.0</td>\n",
       "      <td>0.064516</td>\n",
       "      <td>0.0</td>\n",
       "      <td>0.007444</td>\n",
       "      <td>0.052109</td>\n",
       "      <td>0.109181</td>\n",
       "      <td>0.039702</td>\n",
       "      <td>0.0</td>\n",
       "      <td>0.004963</td>\n",
       "      <td>0.002481</td>\n",
       "      <td>0.004963</td>\n",
       "      <td>0.0</td>\n",
       "      <td>0.620347</td>\n",
       "      <td>0.0</td>\n",
       "      <td>0.012407</td>\n",
       "    </tr>\n",
       "    <tr>\n",
       "      <td>4</td>\n",
       "      <td>15</td>\n",
       "      <td>נועם</td>\n",
       "      <td>302</td>\n",
       "      <td>0.718543</td>\n",
       "      <td>0.990783</td>\n",
       "      <td>0.009217</td>\n",
       "      <td>0.0</td>\n",
       "      <td>0.767442</td>\n",
       "      <td>0.0</td>\n",
       "      <td>0.000000</td>\n",
       "      <td>0.004651</td>\n",
       "      <td>0.004651</td>\n",
       "      <td>0.009302</td>\n",
       "      <td>0.0</td>\n",
       "      <td>0.018605</td>\n",
       "      <td>0.000000</td>\n",
       "      <td>0.116279</td>\n",
       "      <td>0.0</td>\n",
       "      <td>0.023256</td>\n",
       "      <td>0.0</td>\n",
       "      <td>0.023256</td>\n",
       "    </tr>\n",
       "  </tbody>\n",
       "</table>\n",
       "</div>"
      ],
      "text/plain": [
       "   areaId     area  eligible    voters     valid   invalid   ףז       מחל  \\\n",
       "0       7      שחר       516  0.718992  1.000000  0.000000  0.0  0.380054   \n",
       "1      10    תירוש       333  0.711712  0.991561  0.008439  0.0  0.527660   \n",
       "2      11  ניר ח\"ן       403  0.717122  0.996540  0.003460  0.0  0.291667   \n",
       "3      13     חצבה       502  0.802789  1.000000  0.000000  0.0  0.064516   \n",
       "4      15     נועם       302  0.718543  0.990783  0.009217  0.0  0.767442   \n",
       "\n",
       "     י         ק         נ       אמת         ז    ץ         ג         ל  \\\n",
       "0  0.0  0.000000  0.061995  0.045822  0.021563  0.0  0.005391  0.013477   \n",
       "1  0.0  0.000000  0.017021  0.017021  0.004255  0.0  0.012766  0.000000   \n",
       "2  0.0  0.000000  0.059028  0.072917  0.038194  0.0  0.000000  0.006944   \n",
       "3  0.0  0.007444  0.052109  0.109181  0.039702  0.0  0.004963  0.002481   \n",
       "4  0.0  0.000000  0.004651  0.004651  0.009302  0.0  0.018605  0.000000   \n",
       "\n",
       "         שס  ודעם        פה   יז        טב  \n",
       "0  0.088949   0.0  0.266846  0.0  0.008086  \n",
       "1  0.310638   0.0  0.021277  0.0  0.042553  \n",
       "2  0.006944   0.0  0.385417  0.0  0.013889  \n",
       "3  0.004963   0.0  0.620347  0.0  0.012407  \n",
       "4  0.116279   0.0  0.023256  0.0  0.023256  "
      ]
     },
     "metadata": {},
     "output_type": "display_data"
    },
    {
     "data": {
      "text/html": [
       "<div>\n",
       "<style scoped>\n",
       "    .dataframe tbody tr th:only-of-type {\n",
       "        vertical-align: middle;\n",
       "    }\n",
       "\n",
       "    .dataframe tbody tr th {\n",
       "        vertical-align: top;\n",
       "    }\n",
       "\n",
       "    .dataframe thead th {\n",
       "        text-align: right;\n",
       "    }\n",
       "</style>\n",
       "<table border=\"1\" class=\"dataframe\">\n",
       "  <thead>\n",
       "    <tr style=\"text-align: right;\">\n",
       "      <th></th>\n",
       "      <th>areaId</th>\n",
       "      <th>area</th>\n",
       "      <th>eligible</th>\n",
       "      <th>voters</th>\n",
       "      <th>valid</th>\n",
       "      <th>invalid</th>\n",
       "      <th>ףז</th>\n",
       "      <th>מחל</th>\n",
       "      <th>י</th>\n",
       "      <th>ק</th>\n",
       "      <th>נ</th>\n",
       "      <th>אמת</th>\n",
       "      <th>ז</th>\n",
       "      <th>ץ</th>\n",
       "      <th>ג</th>\n",
       "      <th>ל</th>\n",
       "      <th>שס</th>\n",
       "      <th>ודעם</th>\n",
       "      <th>פה</th>\n",
       "      <th>יז</th>\n",
       "      <th>טב</th>\n",
       "    </tr>\n",
       "  </thead>\n",
       "  <tbody>\n",
       "    <tr>\n",
       "      <td>0</td>\n",
       "      <td>7</td>\n",
       "      <td>שחר</td>\n",
       "      <td>517</td>\n",
       "      <td>0.729207</td>\n",
       "      <td>1.000000</td>\n",
       "      <td>0.000000</td>\n",
       "      <td>0.0</td>\n",
       "      <td>0.339523</td>\n",
       "      <td>0.0</td>\n",
       "      <td>0.000000</td>\n",
       "      <td>0.000000</td>\n",
       "      <td>0.082228</td>\n",
       "      <td>0.000000</td>\n",
       "      <td>0.0</td>\n",
       "      <td>0.021220</td>\n",
       "      <td>0.029178</td>\n",
       "      <td>0.103448</td>\n",
       "      <td>0.000000</td>\n",
       "      <td>0.259947</td>\n",
       "      <td>0.000000</td>\n",
       "      <td>0.074271</td>\n",
       "    </tr>\n",
       "    <tr>\n",
       "      <td>1</td>\n",
       "      <td>10</td>\n",
       "      <td>תירוש</td>\n",
       "      <td>332</td>\n",
       "      <td>0.737952</td>\n",
       "      <td>1.000000</td>\n",
       "      <td>0.000000</td>\n",
       "      <td>0.0</td>\n",
       "      <td>0.379592</td>\n",
       "      <td>0.0</td>\n",
       "      <td>0.000000</td>\n",
       "      <td>0.000000</td>\n",
       "      <td>0.004082</td>\n",
       "      <td>0.004082</td>\n",
       "      <td>0.0</td>\n",
       "      <td>0.016327</td>\n",
       "      <td>0.000000</td>\n",
       "      <td>0.424490</td>\n",
       "      <td>0.000000</td>\n",
       "      <td>0.024490</td>\n",
       "      <td>0.000000</td>\n",
       "      <td>0.044898</td>\n",
       "    </tr>\n",
       "    <tr>\n",
       "      <td>2</td>\n",
       "      <td>11</td>\n",
       "      <td>ניר ח\"ן</td>\n",
       "      <td>406</td>\n",
       "      <td>0.706897</td>\n",
       "      <td>1.000000</td>\n",
       "      <td>0.000000</td>\n",
       "      <td>0.0</td>\n",
       "      <td>0.198606</td>\n",
       "      <td>0.0</td>\n",
       "      <td>0.000000</td>\n",
       "      <td>0.003484</td>\n",
       "      <td>0.111498</td>\n",
       "      <td>0.000000</td>\n",
       "      <td>0.0</td>\n",
       "      <td>0.003484</td>\n",
       "      <td>0.034843</td>\n",
       "      <td>0.013937</td>\n",
       "      <td>0.003484</td>\n",
       "      <td>0.327526</td>\n",
       "      <td>0.000000</td>\n",
       "      <td>0.045296</td>\n",
       "    </tr>\n",
       "    <tr>\n",
       "      <td>3</td>\n",
       "      <td>13</td>\n",
       "      <td>חצבה</td>\n",
       "      <td>502</td>\n",
       "      <td>0.743028</td>\n",
       "      <td>1.000000</td>\n",
       "      <td>0.000000</td>\n",
       "      <td>0.0</td>\n",
       "      <td>0.067024</td>\n",
       "      <td>0.0</td>\n",
       "      <td>0.005362</td>\n",
       "      <td>0.000000</td>\n",
       "      <td>0.064343</td>\n",
       "      <td>0.000000</td>\n",
       "      <td>0.0</td>\n",
       "      <td>0.005362</td>\n",
       "      <td>0.048257</td>\n",
       "      <td>0.002681</td>\n",
       "      <td>0.000000</td>\n",
       "      <td>0.579088</td>\n",
       "      <td>0.002681</td>\n",
       "      <td>0.045576</td>\n",
       "    </tr>\n",
       "    <tr>\n",
       "      <td>4</td>\n",
       "      <td>15</td>\n",
       "      <td>נועם</td>\n",
       "      <td>308</td>\n",
       "      <td>0.740260</td>\n",
       "      <td>0.995614</td>\n",
       "      <td>0.004386</td>\n",
       "      <td>0.0</td>\n",
       "      <td>0.696035</td>\n",
       "      <td>0.0</td>\n",
       "      <td>0.000000</td>\n",
       "      <td>0.000000</td>\n",
       "      <td>0.004405</td>\n",
       "      <td>0.000000</td>\n",
       "      <td>0.0</td>\n",
       "      <td>0.017621</td>\n",
       "      <td>0.004405</td>\n",
       "      <td>0.158590</td>\n",
       "      <td>0.000000</td>\n",
       "      <td>0.057269</td>\n",
       "      <td>0.000000</td>\n",
       "      <td>0.035242</td>\n",
       "    </tr>\n",
       "  </tbody>\n",
       "</table>\n",
       "</div>"
      ],
      "text/plain": [
       "   areaId     area  eligible    voters     valid   invalid   ףז       מחל  \\\n",
       "0       7      שחר       517  0.729207  1.000000  0.000000  0.0  0.339523   \n",
       "1      10    תירוש       332  0.737952  1.000000  0.000000  0.0  0.379592   \n",
       "2      11  ניר ח\"ן       406  0.706897  1.000000  0.000000  0.0  0.198606   \n",
       "3      13     חצבה       502  0.743028  1.000000  0.000000  0.0  0.067024   \n",
       "4      15     נועם       308  0.740260  0.995614  0.004386  0.0  0.696035   \n",
       "\n",
       "     י         ק         נ       אמת         ז    ץ         ג         ל  \\\n",
       "0  0.0  0.000000  0.000000  0.082228  0.000000  0.0  0.021220  0.029178   \n",
       "1  0.0  0.000000  0.000000  0.004082  0.004082  0.0  0.016327  0.000000   \n",
       "2  0.0  0.000000  0.003484  0.111498  0.000000  0.0  0.003484  0.034843   \n",
       "3  0.0  0.005362  0.000000  0.064343  0.000000  0.0  0.005362  0.048257   \n",
       "4  0.0  0.000000  0.000000  0.004405  0.000000  0.0  0.017621  0.004405   \n",
       "\n",
       "         שס      ודעם        פה        יז        טב  \n",
       "0  0.103448  0.000000  0.259947  0.000000  0.074271  \n",
       "1  0.424490  0.000000  0.024490  0.000000  0.044898  \n",
       "2  0.013937  0.003484  0.327526  0.000000  0.045296  \n",
       "3  0.002681  0.000000  0.579088  0.002681  0.045576  \n",
       "4  0.158590  0.000000  0.057269  0.000000  0.035242  "
      ]
     },
     "metadata": {},
     "output_type": "display_data"
    },
    {
     "data": {
      "text/html": [
       "<div>\n",
       "<style scoped>\n",
       "    .dataframe tbody tr th:only-of-type {\n",
       "        vertical-align: middle;\n",
       "    }\n",
       "\n",
       "    .dataframe tbody tr th {\n",
       "        vertical-align: top;\n",
       "    }\n",
       "\n",
       "    .dataframe thead th {\n",
       "        text-align: right;\n",
       "    }\n",
       "</style>\n",
       "<table border=\"1\" class=\"dataframe\">\n",
       "  <thead>\n",
       "    <tr style=\"text-align: right;\">\n",
       "      <th></th>\n",
       "      <th>areaId</th>\n",
       "      <th>area</th>\n",
       "      <th>eligible</th>\n",
       "      <th>voters</th>\n",
       "      <th>valid</th>\n",
       "      <th>invalid</th>\n",
       "      <th>ףז</th>\n",
       "      <th>מחל</th>\n",
       "      <th>י</th>\n",
       "      <th>ק</th>\n",
       "      <th>נ</th>\n",
       "      <th>אמת</th>\n",
       "      <th>ז</th>\n",
       "      <th>ץ</th>\n",
       "      <th>ג</th>\n",
       "      <th>ל</th>\n",
       "      <th>שס</th>\n",
       "      <th>ודעם</th>\n",
       "      <th>פה</th>\n",
       "      <th>יז</th>\n",
       "      <th>טב</th>\n",
       "    </tr>\n",
       "  </thead>\n",
       "  <tbody>\n",
       "    <tr>\n",
       "      <td>0</td>\n",
       "      <td>7</td>\n",
       "      <td>שחר</td>\n",
       "      <td>521</td>\n",
       "      <td>0.742802</td>\n",
       "      <td>1.000000</td>\n",
       "      <td>0.000000</td>\n",
       "      <td>0.00000</td>\n",
       "      <td>0.452196</td>\n",
       "      <td>0.0</td>\n",
       "      <td>0.0</td>\n",
       "      <td>0.002584</td>\n",
       "      <td>0.054264</td>\n",
       "      <td>0.00000</td>\n",
       "      <td>0.0</td>\n",
       "      <td>0.015504</td>\n",
       "      <td>0.028424</td>\n",
       "      <td>0.124031</td>\n",
       "      <td>0.00000</td>\n",
       "      <td>0.279070</td>\n",
       "      <td>0.0</td>\n",
       "      <td>0.038760</td>\n",
       "    </tr>\n",
       "    <tr>\n",
       "      <td>1</td>\n",
       "      <td>10</td>\n",
       "      <td>תירוש</td>\n",
       "      <td>331</td>\n",
       "      <td>0.761329</td>\n",
       "      <td>1.000000</td>\n",
       "      <td>0.000000</td>\n",
       "      <td>0.00000</td>\n",
       "      <td>0.539683</td>\n",
       "      <td>0.0</td>\n",
       "      <td>0.0</td>\n",
       "      <td>0.000000</td>\n",
       "      <td>0.007937</td>\n",
       "      <td>0.00000</td>\n",
       "      <td>0.0</td>\n",
       "      <td>0.011905</td>\n",
       "      <td>0.003968</td>\n",
       "      <td>0.373016</td>\n",
       "      <td>0.00000</td>\n",
       "      <td>0.019841</td>\n",
       "      <td>0.0</td>\n",
       "      <td>0.039683</td>\n",
       "    </tr>\n",
       "    <tr>\n",
       "      <td>2</td>\n",
       "      <td>11</td>\n",
       "      <td>ניר חן</td>\n",
       "      <td>404</td>\n",
       "      <td>0.670792</td>\n",
       "      <td>1.000000</td>\n",
       "      <td>0.000000</td>\n",
       "      <td>0.00369</td>\n",
       "      <td>0.309963</td>\n",
       "      <td>0.0</td>\n",
       "      <td>0.0</td>\n",
       "      <td>0.000000</td>\n",
       "      <td>0.107011</td>\n",
       "      <td>0.00369</td>\n",
       "      <td>0.0</td>\n",
       "      <td>0.000000</td>\n",
       "      <td>0.066421</td>\n",
       "      <td>0.025830</td>\n",
       "      <td>0.00369</td>\n",
       "      <td>0.420664</td>\n",
       "      <td>0.0</td>\n",
       "      <td>0.055351</td>\n",
       "    </tr>\n",
       "    <tr>\n",
       "      <td>3</td>\n",
       "      <td>13</td>\n",
       "      <td>חצבה</td>\n",
       "      <td>519</td>\n",
       "      <td>0.763006</td>\n",
       "      <td>0.987374</td>\n",
       "      <td>0.012626</td>\n",
       "      <td>0.00000</td>\n",
       "      <td>0.076726</td>\n",
       "      <td>0.0</td>\n",
       "      <td>0.0</td>\n",
       "      <td>0.002558</td>\n",
       "      <td>0.115090</td>\n",
       "      <td>0.00000</td>\n",
       "      <td>0.0</td>\n",
       "      <td>0.002558</td>\n",
       "      <td>0.030691</td>\n",
       "      <td>0.002558</td>\n",
       "      <td>0.00000</td>\n",
       "      <td>0.700767</td>\n",
       "      <td>0.0</td>\n",
       "      <td>0.063939</td>\n",
       "    </tr>\n",
       "    <tr>\n",
       "      <td>4</td>\n",
       "      <td>15</td>\n",
       "      <td>נועם</td>\n",
       "      <td>313</td>\n",
       "      <td>0.750799</td>\n",
       "      <td>0.995745</td>\n",
       "      <td>0.004255</td>\n",
       "      <td>0.00000</td>\n",
       "      <td>0.747863</td>\n",
       "      <td>0.0</td>\n",
       "      <td>0.0</td>\n",
       "      <td>0.000000</td>\n",
       "      <td>0.004274</td>\n",
       "      <td>0.00000</td>\n",
       "      <td>0.0</td>\n",
       "      <td>0.008547</td>\n",
       "      <td>0.000000</td>\n",
       "      <td>0.179487</td>\n",
       "      <td>0.00000</td>\n",
       "      <td>0.029915</td>\n",
       "      <td>0.0</td>\n",
       "      <td>0.021368</td>\n",
       "    </tr>\n",
       "  </tbody>\n",
       "</table>\n",
       "</div>"
      ],
      "text/plain": [
       "   areaId    area  eligible    voters     valid   invalid       ףז       מחל  \\\n",
       "0       7     שחר       521  0.742802  1.000000  0.000000  0.00000  0.452196   \n",
       "1      10   תירוש       331  0.761329  1.000000  0.000000  0.00000  0.539683   \n",
       "2      11  ניר חן       404  0.670792  1.000000  0.000000  0.00369  0.309963   \n",
       "3      13    חצבה       519  0.763006  0.987374  0.012626  0.00000  0.076726   \n",
       "4      15    נועם       313  0.750799  0.995745  0.004255  0.00000  0.747863   \n",
       "\n",
       "     י    ק         נ       אמת        ז    ץ         ג         ל        שס  \\\n",
       "0  0.0  0.0  0.002584  0.054264  0.00000  0.0  0.015504  0.028424  0.124031   \n",
       "1  0.0  0.0  0.000000  0.007937  0.00000  0.0  0.011905  0.003968  0.373016   \n",
       "2  0.0  0.0  0.000000  0.107011  0.00369  0.0  0.000000  0.066421  0.025830   \n",
       "3  0.0  0.0  0.002558  0.115090  0.00000  0.0  0.002558  0.030691  0.002558   \n",
       "4  0.0  0.0  0.000000  0.004274  0.00000  0.0  0.008547  0.000000  0.179487   \n",
       "\n",
       "      ודעם        פה   יז        טב  \n",
       "0  0.00000  0.279070  0.0  0.038760  \n",
       "1  0.00000  0.019841  0.0  0.039683  \n",
       "2  0.00369  0.420664  0.0  0.055351  \n",
       "3  0.00000  0.700767  0.0  0.063939  \n",
       "4  0.00000  0.029915  0.0  0.021368  "
      ]
     },
     "metadata": {},
     "output_type": "display_data"
    }
   ],
   "source": [
    "# creating dataframes with the same columns\n",
    "def allElectionsIntersection():\n",
    "    election21norm = election21[([\"areaId\", \"area\", \"eligible\", \"voters\", \"valid\", \"invalid\"]+partiesIntersection)].copy()\n",
    "    election22norm = election22[([\"areaId\", \"area\", \"eligible\", \"voters\", \"valid\", \"invalid\"]+partiesIntersection)].copy()\n",
    "    election23norm = election23[([\"areaId\", \"area\", \"eligible\", \"voters\", \"valid\", \"invalid\"]+partiesIntersection)].copy()\n",
    "    return election21norm, election22norm, election23norm\n",
    "election21norm, election22norm, election23norm = allElectionsIntersection()\n",
    "# normalizing results\n",
    "for results in [election21norm, election22norm, election23norm]:\n",
    "    results.loc[:,partiesIntersection] = results.loc[:,partiesIntersection].div(results.valid, axis=0)\n",
    "    results.loc[:,\"valid\":\"invalid\"] = results.loc[:,\"valid\":\"invalid\"].div(results.voters, axis=0)\n",
    "    results.loc[:,\"voters\"] = results.loc[:,\"voters\"].div(results.eligible, axis=0)\n",
    "\n",
    "display(election21norm.head(), election22norm.head(), election23norm.head())"
   ]
  },
  {
   "cell_type": "markdown",
   "metadata": {},
   "source": [
    "## Question 3:"
   ]
  },
  {
   "cell_type": "markdown",
   "metadata": {},
   "source": [
    "### Helper functions:"
   ]
  },
  {
   "cell_type": "code",
   "execution_count": 10,
   "metadata": {},
   "outputs": [
    {
     "data": {
      "image/png": "[encoded data removed]",
      "text/plain": [
       "<Figure size 1800x432 with 1 Axes>"
      ]
     },
     "metadata": {
      "needs_background": "light"
     },
     "output_type": "display_data"
    }
   ],
   "source": [
    "def elbow_met(df): # taken from the practice slides\n",
    "    # k means determine k\n",
    "    distortions = []\n",
    "    K = range(1,20)\n",
    "    for k in K:\n",
    "        kmeanModel = KMeans(n_clusters=k).fit(df)\n",
    "        kmeanModel.fit(df)\n",
    "        distortions.append(sum(np.min(cdist(df, kmeanModel.cluster_centers_, 'euclidean'), axis=1)) / df.shape[0])\n",
    "\n",
    "    # Plot the elbow\n",
    "    plt.plot(K, distortions, 'bx-')\n",
    "    plt.xlabel('k')\n",
    "    plt.ylabel('Within groups sum of squares')\n",
    "    plt.title('The Elbow Method showing the optimal k')\n",
    "    plt.grid()\n",
    "    plt.xticks(K)\n",
    "    plt.show()\n",
    "\n",
    "def real_and_predictions(election, model, trainDf):\n",
    "    predictions = []\n",
    "    real_results = []\n",
    "    centroids = model.cluster_centers_\n",
    "    df = pd.DataFrame(centroids, columns =trainDf.columns) \n",
    "    clusters = {}\n",
    "    for index, row in df.iterrows():\n",
    "        for p in partiesIntersection:\n",
    "            if row.get(p) == max(row[3:]):\n",
    "                clusters[index] = p\n",
    "    for index, row in election.iterrows():\n",
    "        # creating predictions array\n",
    "        prediction = model.predict(election.loc[election[\"areaId\"]==row.areaId].drop([\"area\", \"areaId\", \"eligible\"], axis=1))[0]\n",
    "        predictions.append(prediction)\n",
    "        # creating real_results array\n",
    "        for p in partiesIntersection:    \n",
    "            if row.get(p) == max(row[6:]):\n",
    "                if p in clusters.values():\n",
    "                    real_results.append(list(clusters.keys())[list(clusters.values()).index(p)])\n",
    "                    break\n",
    "                else:\n",
    "                    real_results.append(-1)\n",
    "                    break\n",
    "    return real_results, predictions, clusters\n",
    "\n",
    "elbow_met(election21norm.drop([\"area\", \"areaId\", \"eligible\"], axis=1))"
   ]
  },
  {
   "cell_type": "markdown",
   "metadata": {},
   "source": [
    "### K-Means Clustering:"
   ]
  },
  {
   "cell_type": "markdown",
   "metadata": {},
   "source": [
    "From the elbow method's graph above, we can infer that the optimal K is 4.<br>\n",
    "Let us assume that with a voting populace under 2000 people, an area is considered a Kibbutz.<br>\n",
    "The following script will help us predict (using K-means and MeanShift) which party the average kibbutz voted for:"
   ]
  },
  {
   "cell_type": "code",
   "execution_count": 12,
   "metadata": {
    "scrolled": true
   },
   "outputs": [
    {
     "name": "stdout",
     "output_type": "stream",
     "text": [
      "KMeans accuracy:\t 0.9547738693467337\n",
      "# of rows in test:\t 995\n",
      "Party voted on avg:\t פה\n"
     ]
    }
   ],
   "source": [
    "trainDf = election21norm.drop([\"area\", \"areaId\", \"eligible\"], axis=1)\n",
    "kmeans = KMeans(n_clusters=4, random_state=0).fit(trainDf)\n",
    "\n",
    "election = election22norm.loc[election22norm[\"eligible\"] < 2000] # Assuming the voting populace of an average Kibbutz is under 2k\n",
    "real_results, predictions, clusters = real_and_predictions(election, kmeans, trainDf)\n",
    "print(\"KMeans accuracy:\\t\",accuracy_score(real_results, predictions))\n",
    "print(\"# of rows in test:\\t\",len(real_results))\n",
    "print(\"Party voted on avg:\\t\",clusters[list(pd.Series(predictions).mode())[0]])"
   ]
  },
  {
   "cell_type": "markdown",
   "metadata": {},
   "source": [
    "### MeanShift Clustering:"
   ]
  },
  {
   "cell_type": "code",
   "execution_count": 13,
   "metadata": {},
   "outputs": [
    {
     "name": "stdout",
     "output_type": "stream",
     "text": [
      "MeanShift accuracy:\t 0.7658291457286432\n",
      "# of rows in test:\t 995\n",
      "Party voted on avg:\t פה\n"
     ]
    }
   ],
   "source": [
    "trainDf = election21norm.drop([\"area\", \"areaId\", \"eligible\"], axis=1)\n",
    "ms = MeanShift().fit(trainDf)\n",
    "\n",
    "election = election22norm.loc[election22norm[\"eligible\"] < 2000] # Assuming the voting populace of an average Kibbutz is under 2k\n",
    "real_results, predictions, clusters = real_and_predictions(election, ms, trainDf)\n",
    "print(\"MeanShift accuracy:\\t\",accuracy_score(real_results, predictions))\n",
    "print(\"# of rows in test:\\t\",len(real_results))\n",
    "print(\"Party voted on avg:\\t\",clusters[list(pd.Series(predictions).mode())[0]])"
   ]
  },
  {
   "cell_type": "markdown",
   "metadata": {},
   "source": [
    "While the final answer of both clustering models remain the same, the accuracy differs greatly. We shall prefer to use the K-means model, in our test dataset (Election 23):"
   ]
  },
  {
   "cell_type": "code",
   "execution_count": 14,
   "metadata": {},
   "outputs": [
    {
     "name": "stdout",
     "output_type": "stream",
     "text": [
      "KMeans accuracy:\t 0.9475277497477296\n",
      "# of rows in test:\t 991\n",
      "Party voted on avg:\t פה\n"
     ]
    }
   ],
   "source": [
    "testDf = pd.concat([election21norm.drop([\"area\", \"areaId\", \"eligible\"], axis=1), election22norm.drop([\"area\", \"areaId\", \"eligible\"], axis=1)], ignore_index=True)\n",
    "kmeans = KMeans(n_clusters=4, random_state=0).fit(testDf)\n",
    "\n",
    "election = election23norm.loc[election23norm[\"eligible\"] < 2000] # Assuming the voting populace of an average Kibbutz is under 2k\n",
    "real_results, predictions, clusters = real_and_predictions(election, kmeans, testDf)\n",
    "print(\"KMeans accuracy:\\t\",accuracy_score(real_results, predictions))\n",
    "print(\"# of rows in test:\\t\",len(real_results))\n",
    "print(\"Party voted on avg:\\t\",clusters[list(pd.Series(predictions).mode())[0]])"
   ]
  },
  {
   "cell_type": "markdown",
   "metadata": {},
   "source": [
    "## Question 4:"
   ]
  },
  {
   "cell_type": "code",
   "execution_count": 11,
   "metadata": {},
   "outputs": [
    {
     "name": "stdout",
     "output_type": "stream",
     "text": [
      "MSE:\n",
      "4899400.525251451\n"
     ]
    },
    {
     "data": {
      "text/html": [
       "<style  type=\"text/css\" >\n",
       "</style><table id=\"T_5c8c4c4c_a06a_11ea_bac4_204747736431\" ><thead>    <tr>        <th class=\"col_heading level0 col0\" >Area</th>        <th class=\"col_heading level0 col1\" >Actual-Valid</th>        <th class=\"col_heading level0 col2\" >Predicted-Valid</th>    </tr></thead><tbody>\n",
       "                <tr>\n",
       "                                <td id=\"T_5c8c4c4c_a06a_11ea_bac4_204747736431row0_col0\" class=\"data row0 col0\" >חיפה</td>\n",
       "                        <td id=\"T_5c8c4c4c_a06a_11ea_bac4_204747736431row0_col1\" class=\"data row0 col1\" >144625</td>\n",
       "                        <td id=\"T_5c8c4c4c_a06a_11ea_bac4_204747736431row0_col2\" class=\"data row0 col2\" >149802</td>\n",
       "            </tr>\n",
       "            <tr>\n",
       "                                <td id=\"T_5c8c4c4c_a06a_11ea_bac4_204747736431row1_col0\" class=\"data row1 col0\" >איילת השחר</td>\n",
       "                        <td id=\"T_5c8c4c4c_a06a_11ea_bac4_204747736431row1_col1\" class=\"data row1 col1\" >585</td>\n",
       "                        <td id=\"T_5c8c4c4c_a06a_11ea_bac4_204747736431row1_col2\" class=\"data row1 col2\" >585</td>\n",
       "            </tr>\n",
       "            <tr>\n",
       "                                <td id=\"T_5c8c4c4c_a06a_11ea_bac4_204747736431row2_col0\" class=\"data row2 col0\" >אילת</td>\n",
       "                        <td id=\"T_5c8c4c4c_a06a_11ea_bac4_204747736431row2_col1\" class=\"data row2 col1\" >22636</td>\n",
       "                        <td id=\"T_5c8c4c4c_a06a_11ea_bac4_204747736431row2_col2\" class=\"data row2 col2\" >22317</td>\n",
       "            </tr>\n",
       "            <tr>\n",
       "                                <td id=\"T_5c8c4c4c_a06a_11ea_bac4_204747736431row3_col0\" class=\"data row3 col0\" >סחנין</td>\n",
       "                        <td id=\"T_5c8c4c4c_a06a_11ea_bac4_204747736431row3_col1\" class=\"data row3 col1\" >17085</td>\n",
       "                        <td id=\"T_5c8c4c4c_a06a_11ea_bac4_204747736431row3_col2\" class=\"data row3 col2\" >16986</td>\n",
       "            </tr>\n",
       "            <tr>\n",
       "                                <td id=\"T_5c8c4c4c_a06a_11ea_bac4_204747736431row4_col0\" class=\"data row4 col0\" >קצרין</td>\n",
       "                        <td id=\"T_5c8c4c4c_a06a_11ea_bac4_204747736431row4_col1\" class=\"data row4 col1\" >3498</td>\n",
       "                        <td id=\"T_5c8c4c4c_a06a_11ea_bac4_204747736431row4_col2\" class=\"data row4 col2\" >3486</td>\n",
       "            </tr>\n",
       "    </tbody></table>"
      ],
      "text/plain": [
       "<pandas.io.formats.style.Styler at 0x1608e7cf708>"
      ]
     },
     "metadata": {},
     "output_type": "display_data"
    },
    {
     "data": {
      "text/plain": [
       "RandomForestRegressor(bootstrap=True, criterion='mse', max_depth=11,\n",
       "                      max_features=15, max_leaf_nodes=None,\n",
       "                      min_impurity_decrease=0.0, min_impurity_split=None,\n",
       "                      min_samples_leaf=1, min_samples_split=3,\n",
       "                      min_weight_fraction_leaf=0.0, n_estimators=9, n_jobs=-1,\n",
       "                      oob_score=False, random_state=0, verbose=0,\n",
       "                      warm_start=False)"
      ]
     },
     "metadata": {},
     "output_type": "display_data"
    }
   ],
   "source": [
    "election21norm, election22norm, election23norm = allElectionsIntersection()\n",
    "for results in [election21norm, election22norm, election23norm]: # normalizing only the parties\n",
    "    results.loc[:,partiesIntersection] = results.loc[:,partiesIntersection].div(results.valid, axis=0)\n",
    "# combining election 21 & 22 to be used as the training data\n",
    "train_df = pd.concat([election21norm.drop([\"valid\", \"invalid\"], axis=1), election22norm.drop([\"valid\", \"invalid\"], axis=1)], ignore_index=True)\n",
    "train_labels = np.array(pd.concat([election21norm, election22norm], ignore_index=True).valid)\n",
    "parameters = {'n_estimators': range(5, 10, 1),\n",
    "                      'min_samples_split': range(2, 5, 1),\n",
    "                      'max_depth': range(10, 15, 1),\n",
    "                      'max_features': ['sqrt', 15, 16]}\n",
    "# fitting a random forest regressor with the best estimators found in the grid-search, given parameters above\n",
    "clf = GridSearchCV(RandomForestRegressor(criterion='mse', n_jobs=-1, random_state=0), param_grid=parameters,\n",
    "                   cv=5,iid=False,n_jobs=-1).fit(train_df.drop([\"area\", \"areaId\"], axis=1), train_labels).best_estimator_\n",
    "test_labels = np.array(election23norm.valid)\n",
    "test_df = election23norm.drop([\"valid\", \"invalid\"], axis=1)\n",
    "predictions = clf.predict(election23norm.drop([\"area\", \"areaId\", \"valid\", \"invalid\"], axis=1))\n",
    "print(\"MSE:\\n\" + str(mean_squared_error(test_labels, predictions)))\n",
    "# predicting valid votes for requested areas:\n",
    "data = []\n",
    "for area in [\"חיפה\", \"איילת השחר\", \"אילת\", \"סח'נין\", \"קצרין\"]:\n",
    "    row = []\n",
    "    if area != \"סח'נין\":\n",
    "        row.append(area)\n",
    "        row.append(int(election23norm.loc[election23norm[\"area\"]==area].valid))\n",
    "        row.append(int(clf.predict(election23norm.drop([\"area\", \"areaId\", \"valid\", \"invalid\"], axis=1).loc[election23norm[\"area\"]==area])))\n",
    "    else: # typo in area's name for election23, doing it separately\n",
    "        row.append(\"סחנין\")\n",
    "        row.append(int(election23norm.loc[election23norm[\"area\"]==\"סחנין\"].valid))\n",
    "        row.append(int(clf.predict(election23norm.drop([\"area\", \"areaId\", \"valid\", \"invalid\"], axis=1).loc[election23norm[\"area\"]==\"סחנין\"])))\n",
    "    data.append(row)\n",
    "results = pd.DataFrame(data, columns=[\"Area\", \"Actual-Valid\", \"Predicted-Valid\"])\n",
    "display(results.style.hide_index())\n",
    "display(clf)"
   ]
  },
  {
   "cell_type": "code",
   "execution_count": 19,
   "metadata": {},
   "outputs": [
    {
     "data": {
      "image/png": "[encoded data removed]",
      "text/plain": [
       "<Figure size 432x288 with 1 Axes>"
      ]
     },
     "metadata": {
      "needs_background": "light"
     },
     "output_type": "display_data"
    },
    {
     "data": {
      "text/plain": [
       "'Feature importance:'"
      ]
     },
     "metadata": {},
     "output_type": "display_data"
    },
    {
     "data": {
      "text/plain": [
       "array([3.81485330e-01, 6.03443669e-01, 2.96237947e-04, 1.29138636e-02,\n",
       "       2.01605586e-04, 1.00558879e-05, 1.04694956e-04, 2.12746540e-04,\n",
       "       1.94733213e-04, 2.54552547e-04, 7.60196770e-05, 1.22187731e-04,\n",
       "       4.31964892e-05, 7.73307821e-05, 4.09674179e-04, 6.45558965e-07,\n",
       "       1.53455651e-04])"
      ]
     },
     "metadata": {},
     "output_type": "display_data"
    },
    {
     "data": {
      "text/plain": [
       "Index(['areaId', 'area', 'eligible', 'voters', 'ףז', 'מחל', 'י', 'ק', 'נ',\n",
       "       'אמת', 'ז', 'ץ', 'ג', 'ל', 'שס', 'ודעם', 'פה', 'יז', 'טב'],\n",
       "      dtype='object')"
      ]
     },
     "metadata": {},
     "output_type": "display_data"
    }
   ],
   "source": [
    "# Bar graph visualisation for the tables above\n",
    "cities = [\"Haifa\", \"Ayelet HaShahar\", \"Eilat\", \"Sahnin\", \"Katsrin\"]\n",
    "actual = list(results[\"Actual-Valid\"])\n",
    "predicted = list(results[\"Predicted-Valid\"])\n",
    "fig, ax = plt.subplots()\n",
    "width = 0.1\n",
    "ax.bar(np.arange(1,len(cities)+1) - width/2, actual, width, label=\"Actual # of valid votes\")\n",
    "ax.bar(np.arange(1,len(cities)+1) + width/2, predicted, width, label=\"Predicted # of valid votes\")\n",
    "plt.xticks(range(1,6),cities)\n",
    "plt.xlabel(\"Cities\")\n",
    "plt.ylabel(\"Num of valid votes\")\n",
    "plt.title(\"Graph of predicted and actual valid votes in some cities\")\n",
    "plt.legend(loc=1)\n",
    "plt.grid(which='both', linestyle='--')\n",
    "plt.show()\n",
    "\n",
    "# feature importance for the model\n",
    "display(\"Feature importance:\",clf.feature_importances_)\n",
    "display(test_df.columns)"
   ]
  },
  {
   "cell_type": "markdown",
   "metadata": {},
   "source": [
    "## Question 5:"
   ]
  },
  {
   "cell_type": "markdown",
   "metadata": {},
   "source": [
    "### Helper function:"
   ]
  },
  {
   "cell_type": "code",
   "execution_count": 11,
   "metadata": {},
   "outputs": [],
   "source": [
    "def buildTablesForQ4(e23, clf, areas, party):\n",
    "    data = []\n",
    "    for area in areas:\n",
    "        row = []\n",
    "        if area != \"סח'נין\" and area != \"דאלית אל-כרמל\":\n",
    "            row.append(area)\n",
    "            if party == \"מחל\":\n",
    "                row.append(int(e23.loc[e23[\"area\"]==area].מחל))\n",
    "                row.append(int(clf.predict(e23.drop([\"area\", \"areaId\", \"מחל\"], axis=1).loc[e23[\"area\"]==area])))\n",
    "            elif party == \"ודעם\":\n",
    "                row.append(int(e23.loc[e23[\"area\"]==area].ודעם))\n",
    "                row.append(int(clf.predict(e23.drop([\"area\", \"areaId\", \"ודעם\"], axis=1).loc[e23[\"area\"]==area])))\n",
    "            else:\n",
    "                row.append(int(e23.loc[e23[\"area\"]==area].פה))\n",
    "                row.append(int(clf.predict(e23.drop([\"area\", \"areaId\", \"פה\"], axis=1).loc[e23[\"area\"]==area])))\n",
    "        elif area == \"סח'נין\" or area == \"דאלית אל-כרמל\": # typo in area's name for election23, doing it separately\n",
    "            if area == \"סח'נין\":\n",
    "                row.append(\"סחנין\")\n",
    "                if party == \"מחל\":\n",
    "                    row.append(int(e23.loc[e23[\"area\"]==\"סחנין\"].מחל))\n",
    "                    row.append(int(clf.predict(e23.drop([\"area\", \"areaId\", \"מחל\"], axis=1).loc[e23[\"area\"]==\"סחנין\"])))\n",
    "                elif party == \"ודעם\":\n",
    "                    row.append(int(e23.loc[e23[\"area\"]==\"סחנין\"].ודעם))\n",
    "                    row.append(int(clf.predict(e23.drop([\"area\", \"areaId\", \"ודעם\"], axis=1).loc[e23[\"area\"]==\"סחנין\"])))\n",
    "                else:\n",
    "                    row.append(int(e23.loc[e23[\"area\"]==\"סחנין\"].פה))\n",
    "                    row.append(int(clf.predict(e23.drop([\"area\", \"areaId\", \"פה\"], axis=1).loc[e23[\"area\"]==\"סחנין\"])))\n",
    "            else:\n",
    "                row.append(\"דאלית אלכרמל\")\n",
    "                if party == \"מחל\":\n",
    "                    row.append(int(e23.loc[e23[\"area\"]==\"דאלית אלכרמל\"].מחל))\n",
    "                    row.append(int(clf.predict(e23.drop([\"area\", \"areaId\", \"מחל\"], axis=1).loc[e23[\"area\"]==\"דאלית אלכרמל\"])))\n",
    "                elif party == \"ודעם\":\n",
    "                    row.append(int(e23.loc[e23[\"area\"]==\"דאלית אלכרמל\"].ודעם))\n",
    "                    row.append(int(clf.predict(e23.drop([\"area\", \"areaId\", \"ודעם\"], axis=1).loc[e23[\"area\"]==\"דאלית אלכרמל\"])))\n",
    "                else:\n",
    "                    row.append(int(e23.loc[e23[\"area\"]==\"דאלית אלכרמל\"].פה))\n",
    "                    row.append(int(clf.predict(e23.drop([\"area\", \"areaId\", \"פה\"], axis=1).loc[e23[\"area\"]==\"דאלית אלכרמל\"])))\n",
    "        data.append(row)\n",
    "    results = pd.DataFrame(data, columns=[\"Area\", \"Actual-{0}\".format(party), \"Predicted-{0}\".format(party)])\n",
    "    display(results.style.hide_index())\n",
    "    return results"
   ]
  },
  {
   "cell_type": "markdown",
   "metadata": {},
   "source": [
    "## AdaBoost Regression:"
   ]
  },
  {
   "cell_type": "code",
   "execution_count": 31,
   "metadata": {
    "scrolled": false
   },
   "outputs": [
    {
     "data": {
      "text/html": [
       "<style  type=\"text/css\" >\n",
       "</style><table id=\"T_0a82fe34_9b80_11ea_bf2f_e094677fb467\" ><thead>    <tr>        <th class=\"col_heading level0 col0\" >Area</th>        <th class=\"col_heading level0 col1\" >Actual-מחל</th>        <th class=\"col_heading level0 col2\" >Predicted-מחל</th>    </tr></thead><tbody>\n",
       "                <tr>\n",
       "                                <td id=\"T_0a82fe34_9b80_11ea_bf2f_e094677fb467row0_col0\" class=\"data row0 col0\" >ירושלים</td>\n",
       "                        <td id=\"T_0a82fe34_9b80_11ea_bf2f_e094677fb467row0_col1\" class=\"data row0 col1\" >72601</td>\n",
       "                        <td id=\"T_0a82fe34_9b80_11ea_bf2f_e094677fb467row0_col2\" class=\"data row0 col2\" >59990</td>\n",
       "            </tr>\n",
       "            <tr>\n",
       "                                <td id=\"T_0a82fe34_9b80_11ea_bf2f_e094677fb467row1_col0\" class=\"data row1 col0\" >בני ברק</td>\n",
       "                        <td id=\"T_0a82fe34_9b80_11ea_bf2f_e094677fb467row1_col1\" class=\"data row1 col1\" >4951</td>\n",
       "                        <td id=\"T_0a82fe34_9b80_11ea_bf2f_e094677fb467row1_col2\" class=\"data row1 col2\" >24615</td>\n",
       "            </tr>\n",
       "            <tr>\n",
       "                                <td id=\"T_0a82fe34_9b80_11ea_bf2f_e094677fb467row2_col0\" class=\"data row2 col0\" >סחנין</td>\n",
       "                        <td id=\"T_0a82fe34_9b80_11ea_bf2f_e094677fb467row2_col1\" class=\"data row2 col1\" >39</td>\n",
       "                        <td id=\"T_0a82fe34_9b80_11ea_bf2f_e094677fb467row2_col2\" class=\"data row2 col2\" >1664</td>\n",
       "            </tr>\n",
       "            <tr>\n",
       "                                <td id=\"T_0a82fe34_9b80_11ea_bf2f_e094677fb467row3_col0\" class=\"data row3 col0\" >כרמיאל</td>\n",
       "                        <td id=\"T_0a82fe34_9b80_11ea_bf2f_e094677fb467row3_col1\" class=\"data row3 col1\" >8879</td>\n",
       "                        <td id=\"T_0a82fe34_9b80_11ea_bf2f_e094677fb467row3_col2\" class=\"data row3 col2\" >9501</td>\n",
       "            </tr>\n",
       "            <tr>\n",
       "                                <td id=\"T_0a82fe34_9b80_11ea_bf2f_e094677fb467row4_col0\" class=\"data row4 col0\" >דאלית אלכרמל</td>\n",
       "                        <td id=\"T_0a82fe34_9b80_11ea_bf2f_e094677fb467row4_col1\" class=\"data row4 col1\" >407</td>\n",
       "                        <td id=\"T_0a82fe34_9b80_11ea_bf2f_e094677fb467row4_col2\" class=\"data row4 col2\" >130</td>\n",
       "            </tr>\n",
       "    </tbody></table>"
      ],
      "text/plain": [
       "<pandas.io.formats.style.Styler at 0x2b0773d8f08>"
      ]
     },
     "metadata": {},
     "output_type": "display_data"
    },
    {
     "name": "stdout",
     "output_type": "stream",
     "text": [
      "AdaBoostRegressor(base_estimator=None, learning_rate=0.001, loss='linear',\n",
      "                  n_estimators=300, random_state=0)\n"
     ]
    },
    {
     "data": {
      "text/html": [
       "<style  type=\"text/css\" >\n",
       "</style><table id=\"T_17994d6c_9b80_11ea_93d9_e094677fb467\" ><thead>    <tr>        <th class=\"col_heading level0 col0\" >Area</th>        <th class=\"col_heading level0 col1\" >Actual-ודעם</th>        <th class=\"col_heading level0 col2\" >Predicted-ודעם</th>    </tr></thead><tbody>\n",
       "                <tr>\n",
       "                                <td id=\"T_17994d6c_9b80_11ea_93d9_e094677fb467row0_col0\" class=\"data row0 col0\" >ירושלים</td>\n",
       "                        <td id=\"T_17994d6c_9b80_11ea_93d9_e094677fb467row0_col1\" class=\"data row0 col1\" >5321</td>\n",
       "                        <td id=\"T_17994d6c_9b80_11ea_93d9_e094677fb467row0_col2\" class=\"data row0 col2\" >318</td>\n",
       "            </tr>\n",
       "            <tr>\n",
       "                                <td id=\"T_17994d6c_9b80_11ea_93d9_e094677fb467row1_col0\" class=\"data row1 col0\" >בני ברק</td>\n",
       "                        <td id=\"T_17994d6c_9b80_11ea_93d9_e094677fb467row1_col1\" class=\"data row1 col1\" >22</td>\n",
       "                        <td id=\"T_17994d6c_9b80_11ea_93d9_e094677fb467row1_col2\" class=\"data row1 col2\" >265</td>\n",
       "            </tr>\n",
       "            <tr>\n",
       "                                <td id=\"T_17994d6c_9b80_11ea_93d9_e094677fb467row2_col0\" class=\"data row2 col0\" >סחנין</td>\n",
       "                        <td id=\"T_17994d6c_9b80_11ea_93d9_e094677fb467row2_col1\" class=\"data row2 col1\" >16610</td>\n",
       "                        <td id=\"T_17994d6c_9b80_11ea_93d9_e094677fb467row2_col2\" class=\"data row2 col2\" >8157</td>\n",
       "            </tr>\n",
       "            <tr>\n",
       "                                <td id=\"T_17994d6c_9b80_11ea_93d9_e094677fb467row3_col0\" class=\"data row3 col0\" >כרמיאל</td>\n",
       "                        <td id=\"T_17994d6c_9b80_11ea_93d9_e094677fb467row3_col1\" class=\"data row3 col1\" >468</td>\n",
       "                        <td id=\"T_17994d6c_9b80_11ea_93d9_e094677fb467row3_col2\" class=\"data row3 col2\" >245</td>\n",
       "            </tr>\n",
       "            <tr>\n",
       "                                <td id=\"T_17994d6c_9b80_11ea_93d9_e094677fb467row4_col0\" class=\"data row4 col0\" >דאלית אלכרמל</td>\n",
       "                        <td id=\"T_17994d6c_9b80_11ea_93d9_e094677fb467row4_col1\" class=\"data row4 col1\" >650</td>\n",
       "                        <td id=\"T_17994d6c_9b80_11ea_93d9_e094677fb467row4_col2\" class=\"data row4 col2\" >368</td>\n",
       "            </tr>\n",
       "    </tbody></table>"
      ],
      "text/plain": [
       "<pandas.io.formats.style.Styler at 0x2b07547b4c8>"
      ]
     },
     "metadata": {},
     "output_type": "display_data"
    },
    {
     "name": "stdout",
     "output_type": "stream",
     "text": [
      "AdaBoostRegressor(base_estimator=None, learning_rate=0.0001, loss='linear',\n",
      "                  n_estimators=50, random_state=0)\n"
     ]
    },
    {
     "data": {
      "text/html": [
       "<style  type=\"text/css\" >\n",
       "</style><table id=\"T_265cc636_9b80_11ea_84b8_e094677fb467\" ><thead>    <tr>        <th class=\"col_heading level0 col0\" >Area</th>        <th class=\"col_heading level0 col1\" >Actual-פה</th>        <th class=\"col_heading level0 col2\" >Predicted-פה</th>    </tr></thead><tbody>\n",
       "                <tr>\n",
       "                                <td id=\"T_265cc636_9b80_11ea_84b8_e094677fb467row0_col0\" class=\"data row0 col0\" >ירושלים</td>\n",
       "                        <td id=\"T_265cc636_9b80_11ea_84b8_e094677fb467row0_col1\" class=\"data row0 col1\" >32800</td>\n",
       "                        <td id=\"T_265cc636_9b80_11ea_84b8_e094677fb467row0_col2\" class=\"data row0 col2\" >68702</td>\n",
       "            </tr>\n",
       "            <tr>\n",
       "                                <td id=\"T_265cc636_9b80_11ea_84b8_e094677fb467row1_col0\" class=\"data row1 col0\" >בני ברק</td>\n",
       "                        <td id=\"T_265cc636_9b80_11ea_84b8_e094677fb467row1_col1\" class=\"data row1 col1\" >1133</td>\n",
       "                        <td id=\"T_265cc636_9b80_11ea_84b8_e094677fb467row1_col2\" class=\"data row1 col2\" >213</td>\n",
       "            </tr>\n",
       "            <tr>\n",
       "                                <td id=\"T_265cc636_9b80_11ea_84b8_e094677fb467row2_col0\" class=\"data row2 col0\" >סחנין</td>\n",
       "                        <td id=\"T_265cc636_9b80_11ea_84b8_e094677fb467row2_col1\" class=\"data row2 col1\" >120</td>\n",
       "                        <td id=\"T_265cc636_9b80_11ea_84b8_e094677fb467row2_col2\" class=\"data row2 col2\" >207</td>\n",
       "            </tr>\n",
       "            <tr>\n",
       "                                <td id=\"T_265cc636_9b80_11ea_84b8_e094677fb467row3_col0\" class=\"data row3 col0\" >כרמיאל</td>\n",
       "                        <td id=\"T_265cc636_9b80_11ea_84b8_e094677fb467row3_col1\" class=\"data row3 col1\" >6627</td>\n",
       "                        <td id=\"T_265cc636_9b80_11ea_84b8_e094677fb467row3_col2\" class=\"data row3 col2\" >5188</td>\n",
       "            </tr>\n",
       "            <tr>\n",
       "                                <td id=\"T_265cc636_9b80_11ea_84b8_e094677fb467row4_col0\" class=\"data row4 col0\" >דאלית אלכרמל</td>\n",
       "                        <td id=\"T_265cc636_9b80_11ea_84b8_e094677fb467row4_col1\" class=\"data row4 col1\" >5200</td>\n",
       "                        <td id=\"T_265cc636_9b80_11ea_84b8_e094677fb467row4_col2\" class=\"data row4 col2\" >2885</td>\n",
       "            </tr>\n",
       "    </tbody></table>"
      ],
      "text/plain": [
       "<pandas.io.formats.style.Styler at 0x2b0773b0648>"
      ]
     },
     "metadata": {},
     "output_type": "display_data"
    },
    {
     "name": "stdout",
     "output_type": "stream",
     "text": [
      "AdaBoostRegressor(base_estimator=None, learning_rate=0.001, loss='square',\n",
      "                  n_estimators=300, random_state=0)\n"
     ]
    }
   ],
   "source": [
    "e21, e22, e23 = allElectionsIntersection()\n",
    "# combining election 21 & 22 to be used as the training data\n",
    "areas = [\"ירושלים\", \"בני ברק\", \"סח'נין\", \"כרמיאל\", \"דאלית אל-כרמל\"]\n",
    "parameters = {'n_estimators': [50, 80, 100, 200, 250, 300],\n",
    "              'learning_rate': [0.001, 0.0001],\n",
    "              'loss': ['linear', 'square']}\n",
    "for party in [\"מחל\", \"ודעם\", \"פה\"]:\n",
    "    if party == \"פה\":\n",
    "        train_df = pd.concat([e21.drop([\"פה\"], axis=1), e22.drop([\"פה\"], axis=1)], ignore_index=True)\n",
    "        train_labels = np.array(pd.concat([e21, e22], ignore_index=True).פה)\n",
    "        \n",
    "        clf = GridSearchCV(AdaBoostRegressor(random_state=0), param_grid=parameters,\n",
    "                           cv=5,iid=False,n_jobs=-1).fit(train_df.drop([\"area\", \"areaId\"], axis=1), train_labels).best_estimator_\n",
    "        results1 = buildTablesForQ4(e23, clf, areas, \"פה\")\n",
    "        print(clf)\n",
    "    elif party == \"ודעם\":\n",
    "        train_df = pd.concat([e21.drop([\"ודעם\"], axis=1), e22.drop([\"ודעם\"], axis=1)], ignore_index=True)\n",
    "        train_labels = np.array(pd.concat([e21, e22], ignore_index=True).ודעם)\n",
    "\n",
    "        clf = GridSearchCV(AdaBoostRegressor(random_state=0), param_grid=parameters,\n",
    "                           cv=5,iid=False,n_jobs=-1).fit(train_df.drop([\"area\", \"areaId\"], axis=1), train_labels).best_estimator_\n",
    "        results2 = buildTablesForQ4(e23, clf, areas, \"ודעם\")\n",
    "        print(clf)\n",
    "    else:\n",
    "        train_df = pd.concat([e21.drop([\"מחל\"], axis=1), e22.drop([\"מחל\"], axis=1)], ignore_index=True)\n",
    "        train_labels = np.array(pd.concat([e21, e22], ignore_index=True).מחל)\n",
    "\n",
    "        clf = GridSearchCV(AdaBoostRegressor(random_state=0), param_grid=parameters,\n",
    "                           cv=5,iid=False,n_jobs=-1).fit(train_df.drop([\"area\", \"areaId\"], axis=1), train_labels).best_estimator_\n",
    "        results3 = buildTablesForQ4(e23, clf, areas, \"מחל\")\n",
    "        print(clf)"
   ]
  },
  {
   "cell_type": "code",
   "execution_count": 18,
   "metadata": {},
   "outputs": [
    {
     "data": {
      "image/png": "[encoded data removed]",
      "text/plain": [
       "<Figure size 432x288 with 1 Axes>"
      ]
     },
     "metadata": {
      "needs_background": "light"
     },
     "output_type": "display_data"
    },
    {
     "data": {
      "image/png": "[encoded data removed]",
      "text/plain": [
       "<Figure size 432x288 with 1 Axes>"
      ]
     },
     "metadata": {
      "needs_background": "light"
     },
     "output_type": "display_data"
    },
    {
     "data": {
      "image/png": "[encoded data removed]",
      "text/plain": [
       "<Figure size 432x288 with 1 Axes>"
      ]
     },
     "metadata": {
      "needs_background": "light"
     },
     "output_type": "display_data"
    }
   ],
   "source": [
    "# Bar graph visualisation for the tables above\n",
    "cities = [\"Jerusalem\", \"Bnei Brak\", \"Sahnin\", \"Karmiel\", \"Daliat El-Carmel\"]\n",
    "\n",
    "actual3 = list(results3[\"Actual-מחל\"])\n",
    "predicted3 = list(results3[\"Predicted-מחל\"])\n",
    "fig, ax = plt.subplots()\n",
    "width = 0.1\n",
    "ax.bar(np.arange(1,len(cities)+1) - width/2, actual3, width, label=\"Actual # of votes\")\n",
    "ax.bar(np.arange(1,len(cities)+1) + width/2, predicted3, width, label=\"Predicted # of votes\")\n",
    "plt.xticks(range(1,6),cities)\n",
    "plt.xlabel(\"Cities\")\n",
    "plt.ylabel(\"Num of votes\")\n",
    "plt.title(\"Graph of predicted and actual votes for Likud\")\n",
    "plt.legend(loc=1)\n",
    "plt.grid(which='both', linestyle='--')\n",
    "plt.show()\n",
    "\n",
    "actual2 = list(results2[\"Actual-ודעם\"])\n",
    "predicted2 = list(results2[\"Predicted-ודעם\"])\n",
    "fig, ax = plt.subplots()\n",
    "width = 0.1\n",
    "ax.bar(np.arange(1,len(cities)+1) - width/2, actual2, width, label=\"Actual # of votes\")\n",
    "ax.bar(np.arange(1,len(cities)+1) + width/2, predicted2, width, label=\"Predicted # of votes\")\n",
    "plt.xticks(range(1,6),cities)\n",
    "plt.xlabel(\"Cities\")\n",
    "plt.ylabel(\"Num of votes\")\n",
    "plt.title(\"Graph of predicted and actual votes for Joint List\")\n",
    "plt.legend(loc=1)\n",
    "plt.grid(which='both', linestyle='--')\n",
    "plt.show()\n",
    "\n",
    "actual1 = list(results1[\"Actual-פה\"])\n",
    "predicted1 = list(results1[\"Predicted-פה\"])\n",
    "fig, ax = plt.subplots()\n",
    "width = 0.1\n",
    "ax.bar(np.arange(1,len(cities)+1) - width/2, actual1, width, label=\"Actual # of votes\")\n",
    "ax.bar(np.arange(1,len(cities)+1) + width/2, predicted1, width, label=\"Predicted # of votes\")\n",
    "plt.xticks(range(1,6),cities)\n",
    "plt.xlabel(\"Cities\")\n",
    "plt.ylabel(\"Num of votes\")\n",
    "plt.title(\"Graph of predicted and actual votes for Blue and White\")\n",
    "plt.legend(loc=1)\n",
    "plt.grid(which='both', linestyle='--')\n",
    "plt.show()"
   ]
  },
  {
   "cell_type": "code",
   "execution_count": 33,
   "metadata": {},
   "outputs": [
    {
     "data": {
      "text/plain": [
       "'Feature importance:'"
      ]
     },
     "metadata": {},
     "output_type": "display_data"
    },
    {
     "data": {
      "text/plain": [
       "Index(['areaId', 'area', 'eligible', 'voters', 'valid', 'invalid', 'ל', 'שס',\n",
       "       'נ', 'ודעם', 'אמת', 'ז', 'ץ', 'י', 'מחל', 'ק', 'יז', 'טב', 'ג', 'ףז'],\n",
       "      dtype='object')"
      ]
     },
     "metadata": {},
     "output_type": "display_data"
    },
    {
     "data": {
      "text/plain": [
       "array([1.74342358e-02, 3.45944126e-02, 5.80580954e-02, 1.78106199e-03,\n",
       "       2.26405180e-03, 1.30601053e-03, 3.25716247e-04, 3.97064113e-03,\n",
       "       7.81329181e-01, 1.68466430e-03, 4.15022641e-02, 1.03529344e-02,\n",
       "       7.48126239e-03, 1.32773922e-02, 6.36497256e-03, 1.22047216e-03,\n",
       "       1.07075039e-03, 1.59818807e-02])"
      ]
     },
     "metadata": {},
     "output_type": "display_data"
    }
   ],
   "source": [
    "# feature importance for the model\n",
    "display(\"Feature importance:\",train_df.columns,clf.feature_importances_)"
   ]
  },
  {
   "cell_type": "markdown",
   "metadata": {},
   "source": [
    "## Question 6:"
   ]
  },
  {
   "cell_type": "code",
   "execution_count": 34,
   "metadata": {},
   "outputs": [
    {
     "data": {
      "text/plain": [
       "'Predicted top invalid votes'"
      ]
     },
     "metadata": {},
     "output_type": "display_data"
    },
    {
     "data": {
      "text/html": [
       "<style  type=\"text/css\" >\n",
       "</style><table id=\"T_97dd2552_9b80_11ea_9e37_e094677fb467\" ><thead>    <tr>        <th class=\"col_heading level0 col0\" >area</th>        <th class=\"col_heading level0 col1\" >invalid</th>    </tr></thead><tbody>\n",
       "                <tr>\n",
       "                                <td id=\"T_97dd2552_9b80_11ea_9e37_e094677fb467row0_col0\" class=\"data row0 col0\" >ירושלים</td>\n",
       "                        <td id=\"T_97dd2552_9b80_11ea_9e37_e094677fb467row0_col1\" class=\"data row0 col1\" >1980</td>\n",
       "            </tr>\n",
       "            <tr>\n",
       "                                <td id=\"T_97dd2552_9b80_11ea_9e37_e094677fb467row1_col0\" class=\"data row1 col0\" >תל אביב  יפו</td>\n",
       "                        <td id=\"T_97dd2552_9b80_11ea_9e37_e094677fb467row1_col1\" class=\"data row1 col1\" >1122</td>\n",
       "            </tr>\n",
       "            <tr>\n",
       "                                <td id=\"T_97dd2552_9b80_11ea_9e37_e094677fb467row2_col0\" class=\"data row2 col0\" >בני ברק</td>\n",
       "                        <td id=\"T_97dd2552_9b80_11ea_9e37_e094677fb467row2_col1\" class=\"data row2 col1\" >970</td>\n",
       "            </tr>\n",
       "            <tr>\n",
       "                                <td id=\"T_97dd2552_9b80_11ea_9e37_e094677fb467row3_col0\" class=\"data row3 col0\" >חיפה</td>\n",
       "                        <td id=\"T_97dd2552_9b80_11ea_9e37_e094677fb467row3_col1\" class=\"data row3 col1\" >934</td>\n",
       "            </tr>\n",
       "            <tr>\n",
       "                                <td id=\"T_97dd2552_9b80_11ea_9e37_e094677fb467row4_col0\" class=\"data row4 col0\" >אשדוד</td>\n",
       "                        <td id=\"T_97dd2552_9b80_11ea_9e37_e094677fb467row4_col1\" class=\"data row4 col1\" >931</td>\n",
       "            </tr>\n",
       "            <tr>\n",
       "                                <td id=\"T_97dd2552_9b80_11ea_9e37_e094677fb467row5_col0\" class=\"data row5 col0\" >נתניה</td>\n",
       "                        <td id=\"T_97dd2552_9b80_11ea_9e37_e094677fb467row5_col1\" class=\"data row5 col1\" >908</td>\n",
       "            </tr>\n",
       "            <tr>\n",
       "                                <td id=\"T_97dd2552_9b80_11ea_9e37_e094677fb467row6_col0\" class=\"data row6 col0\" >פתח תקווה</td>\n",
       "                        <td id=\"T_97dd2552_9b80_11ea_9e37_e094677fb467row6_col1\" class=\"data row6 col1\" >903</td>\n",
       "            </tr>\n",
       "            <tr>\n",
       "                                <td id=\"T_97dd2552_9b80_11ea_9e37_e094677fb467row7_col0\" class=\"data row7 col0\" >חולון</td>\n",
       "                        <td id=\"T_97dd2552_9b80_11ea_9e37_e094677fb467row7_col1\" class=\"data row7 col1\" >854</td>\n",
       "            </tr>\n",
       "            <tr>\n",
       "                                <td id=\"T_97dd2552_9b80_11ea_9e37_e094677fb467row8_col0\" class=\"data row8 col0\" >אשקלון</td>\n",
       "                        <td id=\"T_97dd2552_9b80_11ea_9e37_e094677fb467row8_col1\" class=\"data row8 col1\" >781</td>\n",
       "            </tr>\n",
       "            <tr>\n",
       "                                <td id=\"T_97dd2552_9b80_11ea_9e37_e094677fb467row9_col0\" class=\"data row9 col0\" >ראשון לציון</td>\n",
       "                        <td id=\"T_97dd2552_9b80_11ea_9e37_e094677fb467row9_col1\" class=\"data row9 col1\" >775</td>\n",
       "            </tr>\n",
       "            <tr>\n",
       "                                <td id=\"T_97dd2552_9b80_11ea_9e37_e094677fb467row10_col0\" class=\"data row10 col0\" >רמת גן</td>\n",
       "                        <td id=\"T_97dd2552_9b80_11ea_9e37_e094677fb467row10_col1\" class=\"data row10 col1\" >753</td>\n",
       "            </tr>\n",
       "            <tr>\n",
       "                                <td id=\"T_97dd2552_9b80_11ea_9e37_e094677fb467row11_col0\" class=\"data row11 col0\" >בת ים</td>\n",
       "                        <td id=\"T_97dd2552_9b80_11ea_9e37_e094677fb467row11_col1\" class=\"data row11 col1\" >745</td>\n",
       "            </tr>\n",
       "            <tr>\n",
       "                                <td id=\"T_97dd2552_9b80_11ea_9e37_e094677fb467row12_col0\" class=\"data row12 col0\" >באר שבע</td>\n",
       "                        <td id=\"T_97dd2552_9b80_11ea_9e37_e094677fb467row12_col1\" class=\"data row12 col1\" >724</td>\n",
       "            </tr>\n",
       "            <tr>\n",
       "                                <td id=\"T_97dd2552_9b80_11ea_9e37_e094677fb467row13_col0\" class=\"data row13 col0\" >לוד</td>\n",
       "                        <td id=\"T_97dd2552_9b80_11ea_9e37_e094677fb467row13_col1\" class=\"data row13 col1\" >220</td>\n",
       "            </tr>\n",
       "    </tbody></table>"
      ],
      "text/plain": [
       "<pandas.io.formats.style.Styler at 0x2b077767ec8>"
      ]
     },
     "metadata": {},
     "output_type": "display_data"
    },
    {
     "data": {
      "text/plain": [
       "AdaBoostRegressor(base_estimator=None, learning_rate=0.001, loss='linear',\n",
       "                  n_estimators=200, random_state=0)"
      ]
     },
     "metadata": {},
     "output_type": "display_data"
    },
    {
     "data": {
      "text/plain": [
       "'Actual top invalid votes:'"
      ]
     },
     "metadata": {},
     "output_type": "display_data"
    },
    {
     "data": {
      "text/html": [
       "<style  type=\"text/css\" >\n",
       "</style><table id=\"T_97df1e54_9b80_11ea_a3d3_e094677fb467\" ><thead>    <tr>        <th class=\"col_heading level0 col0\" >area</th>        <th class=\"col_heading level0 col1\" >invalid</th>    </tr></thead><tbody>\n",
       "                <tr>\n",
       "                                <td id=\"T_97df1e54_9b80_11ea_a3d3_e094677fb467row0_col0\" class=\"data row0 col0\" >ירושלים</td>\n",
       "                        <td id=\"T_97df1e54_9b80_11ea_a3d3_e094677fb467row0_col1\" class=\"data row0 col1\" >1625</td>\n",
       "            </tr>\n",
       "            <tr>\n",
       "                                <td id=\"T_97df1e54_9b80_11ea_a3d3_e094677fb467row1_col0\" class=\"data row1 col0\" >תל אביב  יפו</td>\n",
       "                        <td id=\"T_97df1e54_9b80_11ea_a3d3_e094677fb467row1_col1\" class=\"data row1 col1\" >1001</td>\n",
       "            </tr>\n",
       "            <tr>\n",
       "                                <td id=\"T_97df1e54_9b80_11ea_a3d3_e094677fb467row2_col0\" class=\"data row2 col0\" >בני ברק</td>\n",
       "                        <td id=\"T_97df1e54_9b80_11ea_a3d3_e094677fb467row2_col1\" class=\"data row2 col1\" >929</td>\n",
       "            </tr>\n",
       "            <tr>\n",
       "                                <td id=\"T_97df1e54_9b80_11ea_a3d3_e094677fb467row3_col0\" class=\"data row3 col0\" >חיפה</td>\n",
       "                        <td id=\"T_97df1e54_9b80_11ea_a3d3_e094677fb467row3_col1\" class=\"data row3 col1\" >863</td>\n",
       "            </tr>\n",
       "            <tr>\n",
       "                                <td id=\"T_97df1e54_9b80_11ea_a3d3_e094677fb467row4_col0\" class=\"data row4 col0\" >באר שבע</td>\n",
       "                        <td id=\"T_97df1e54_9b80_11ea_a3d3_e094677fb467row4_col1\" class=\"data row4 col1\" >785</td>\n",
       "            </tr>\n",
       "            <tr>\n",
       "                                <td id=\"T_97df1e54_9b80_11ea_a3d3_e094677fb467row5_col0\" class=\"data row5 col0\" >אשדוד</td>\n",
       "                        <td id=\"T_97df1e54_9b80_11ea_a3d3_e094677fb467row5_col1\" class=\"data row5 col1\" >694</td>\n",
       "            </tr>\n",
       "            <tr>\n",
       "                                <td id=\"T_97df1e54_9b80_11ea_a3d3_e094677fb467row6_col0\" class=\"data row6 col0\" >פתח תקווה</td>\n",
       "                        <td id=\"T_97df1e54_9b80_11ea_a3d3_e094677fb467row6_col1\" class=\"data row6 col1\" >646</td>\n",
       "            </tr>\n",
       "            <tr>\n",
       "                                <td id=\"T_97df1e54_9b80_11ea_a3d3_e094677fb467row7_col0\" class=\"data row7 col0\" >נתניה</td>\n",
       "                        <td id=\"T_97df1e54_9b80_11ea_a3d3_e094677fb467row7_col1\" class=\"data row7 col1\" >636</td>\n",
       "            </tr>\n",
       "            <tr>\n",
       "                                <td id=\"T_97df1e54_9b80_11ea_a3d3_e094677fb467row8_col0\" class=\"data row8 col0\" >ראשון לציון</td>\n",
       "                        <td id=\"T_97df1e54_9b80_11ea_a3d3_e094677fb467row8_col1\" class=\"data row8 col1\" >596</td>\n",
       "            </tr>\n",
       "            <tr>\n",
       "                                <td id=\"T_97df1e54_9b80_11ea_a3d3_e094677fb467row9_col0\" class=\"data row9 col0\" >חולון</td>\n",
       "                        <td id=\"T_97df1e54_9b80_11ea_a3d3_e094677fb467row9_col1\" class=\"data row9 col1\" >518</td>\n",
       "            </tr>\n",
       "            <tr>\n",
       "                                <td id=\"T_97df1e54_9b80_11ea_a3d3_e094677fb467row10_col0\" class=\"data row10 col0\" >בת ים</td>\n",
       "                        <td id=\"T_97df1e54_9b80_11ea_a3d3_e094677fb467row10_col1\" class=\"data row10 col1\" >492</td>\n",
       "            </tr>\n",
       "            <tr>\n",
       "                                <td id=\"T_97df1e54_9b80_11ea_a3d3_e094677fb467row11_col0\" class=\"data row11 col0\" >אשקלון</td>\n",
       "                        <td id=\"T_97df1e54_9b80_11ea_a3d3_e094677fb467row11_col1\" class=\"data row11 col1\" >466</td>\n",
       "            </tr>\n",
       "            <tr>\n",
       "                                <td id=\"T_97df1e54_9b80_11ea_a3d3_e094677fb467row12_col0\" class=\"data row12 col0\" >מודיעין עילית</td>\n",
       "                        <td id=\"T_97df1e54_9b80_11ea_a3d3_e094677fb467row12_col1\" class=\"data row12 col1\" >374</td>\n",
       "            </tr>\n",
       "            <tr>\n",
       "                                <td id=\"T_97df1e54_9b80_11ea_a3d3_e094677fb467row13_col0\" class=\"data row13 col0\" >רמלה</td>\n",
       "                        <td id=\"T_97df1e54_9b80_11ea_a3d3_e094677fb467row13_col1\" class=\"data row13 col1\" >358</td>\n",
       "            </tr>\n",
       "    </tbody></table>"
      ],
      "text/plain": [
       "<pandas.io.formats.style.Styler at 0x2b0776ec608>"
      ]
     },
     "metadata": {},
     "output_type": "display_data"
    }
   ],
   "source": [
    "# We used the total invalid votes per area, instead of the percentage, because only the amount of invalid votes actually affects election results. A high percentage\n",
    "# of invalid votes doesn't necessarily mean it is significant, since the area it represents might also have a very low population.\n",
    "e21, e22, e23 = allElectionsIntersection()\n",
    "for results in [e21, e22, e23]: # normalizing only the parties\n",
    "    results.loc[:,partiesIntersection] = results.loc[:,partiesIntersection].div(results.valid, axis=0)\n",
    "\n",
    "train_df = pd.concat([e21.drop([\"valid\", \"invalid\"], axis=1), e21.drop([\"valid\", \"invalid\"], axis=1)], ignore_index=True)\n",
    "train_labels = np.array(pd.concat([e21, e22], ignore_index=True).invalid)\n",
    "parameters = {'n_estimators': [10, 50, 200],\n",
    "              'learning_rate': [0.01, 0.001],\n",
    "              'loss': ['linear']}\n",
    "# fitting a random forest regressor with the best estimators found in the grid-search, given parameters above\n",
    "clf = GridSearchCV(AdaBoostRegressor(random_state=0), param_grid=parameters,\n",
    "                           cv=5,iid=False,n_jobs=-1).fit(train_df.drop([\"area\", \"areaId\"], axis=1), train_labels).best_estimator_\n",
    "\n",
    "# predicting valid votes for requested areas:\n",
    "data = []\n",
    "for area in e23['area'].to_numpy():\n",
    "    row = []\n",
    "    row.append(area)\n",
    "    row.append(int(clf.predict(e23.drop([\"area\", \"areaId\", \"valid\", \"invalid\"], axis=1).loc[e23[\"area\"]==area])))\n",
    "    data.append(row)\n",
    "results = pd.DataFrame(data, columns=[\"area\", \"invalid\"])\n",
    "pred = results.loc[e23.area != \"מעטפות חיצוניות\", [\"area\", \"invalid\"]].sort_values(\"invalid\", ascending=False)\n",
    "display(\"Predicted top invalid votes\",results.loc[e23.area != \"מעטפות חיצוניות\", [\"area\", \"invalid\"]].sort_values(\"invalid\", ascending=False).head(14).style.hide_index(), clf)\n",
    "\n",
    "true = e23.loc[e23.area != \"מעטפות חיצוניות\", [\"area\", \"invalid\"]].sort_values(\"invalid\", ascending=False)\n",
    "display(\"Actual top invalid votes:\",e23.loc[e23.area != \"מעטפות חיצוניות\", [\"area\", \"invalid\"]].sort_values(\"invalid\", ascending=False).head(14).style.hide_index())"
   ]
  },
  {
   "cell_type": "markdown",
   "metadata": {},
   "source": [
    "#### Confusion Matrix of number of towns needing a representative:"
   ]
  },
  {
   "cell_type": "code",
   "execution_count": 85,
   "metadata": {},
   "outputs": [
    {
     "name": "stdout",
     "output_type": "stream",
     "text": [
      "Confusion matrix, without normalization\n",
      "[[1200    3]\n",
      " [   0   10]]\n"
     ]
    },
    {
     "data": {
      "image/png": "[encoded data removed]",
      "text/plain": [
       "<Figure size 720x720 with 2 Axes>"
      ]
     },
     "metadata": {
      "needs_background": "light"
     },
     "output_type": "display_data"
    }
   ],
   "source": [
    "# Taken from tirgul\n",
    "def plot_confusion_matrix(cm, classes,\n",
    "                          normalize=False,\n",
    "                          title='Confusion matrix of # of towns needing a representative',\n",
    "                          cmap=plt.cm.Oranges):\n",
    "    \"\"\"\n",
    "    This function prints and plots the confusion matrix.\n",
    "    Normalization can be applied by setting `normalize=True`.\n",
    "    Source: http://scikit-learn.org/stable/auto_examples/model_selection/plot_confusion_matrix.html\n",
    "    \"\"\"\n",
    "    if normalize:\n",
    "        cm = cm.astype('float') / cm.sum(axis=1)[:, np.newaxis]\n",
    "        print(\"Normalized confusion matrix\")\n",
    "    else:\n",
    "        print('Confusion matrix, without normalization')\n",
    "\n",
    "    print(cm)\n",
    "\n",
    "    plt.figure(figsize = (10, 10))\n",
    "    plt.imshow(cm, interpolation='nearest', cmap=cmap)\n",
    "    plt.title(title, size = 24)\n",
    "    plt.colorbar(aspect=4)\n",
    "    tick_marks = np.arange(len(classes))\n",
    "    plt.xticks(tick_marks, classes, rotation=45, size = 14)\n",
    "    plt.yticks(tick_marks, classes, size = 14)\n",
    "\n",
    "    fmt = '.2f' if normalize else 'd'\n",
    "    thresh = cm.max() / 2.\n",
    "    \n",
    "    # Labeling the plot\n",
    "    for i, j in itertools.product(range(cm.shape[0]), range(cm.shape[1])):\n",
    "        plt.text(j, i, format(cm[i, j], fmt), fontsize = 20,\n",
    "                 horizontalalignment=\"center\",\n",
    "                 color=\"white\" if cm[i, j] > thresh else \"black\")\n",
    "        \n",
    "#     plt.grid(None)\n",
    "    plt.tight_layout()\n",
    "    plt.ylabel('True label', size = 18)\n",
    "    plt.xlabel('Predicted label', size = 18)\n",
    "\n",
    "# We chose 500 as the threshold for the invalid votes a town can have before we send a representative.\n",
    "a = np.array(pred['invalid'].values.tolist())\n",
    "pred['invalid'] = np.where(a < 500, 0, a).tolist()\n",
    "a = np.array(pred['invalid'].values.tolist())\n",
    "pred['invalid'] = np.where(a > 499, 1, a).tolist()\n",
    "a = np.array(true['invalid'].values.tolist())\n",
    "true['invalid'] = np.where(a < 500, 0, a).tolist()\n",
    "a = np.array(true['invalid'].values.tolist())\n",
    "true['invalid'] = np.where(a > 499, 1, a).tolist()\n",
    "\n",
    "cm = confusion_matrix(list(true[\"invalid\"]), list(pred[\"invalid\"]))\n",
    "plot_confusion_matrix(cm, classes = [\"Doesn't need Rep\", 'Need Rep'])"
   ]
  },
  {
   "cell_type": "code",
   "execution_count": 35,
   "metadata": {},
   "outputs": [
    {
     "data": {
      "text/plain": [
       "'Feature importance:'"
      ]
     },
     "metadata": {},
     "output_type": "display_data"
    },
    {
     "data": {
      "text/plain": [
       "Index(['areaId', 'area', 'eligible', 'voters', 'ל', 'שס', 'נ', 'ודעם', 'אמת',\n",
       "       'ז', 'ץ', 'י', 'מחל', 'ק', 'יז', 'פה', 'טב', 'ג', 'ףז'],\n",
       "      dtype='object')"
      ]
     },
     "metadata": {},
     "output_type": "display_data"
    },
    {
     "data": {
      "text/plain": [
       "array([0.69278036, 0.21018915, 0.01166007, 0.00285244, 0.00344656,\n",
       "       0.00778606, 0.00321095, 0.00730812, 0.00617539, 0.00916538,\n",
       "       0.00354049, 0.0030218 , 0.00220007, 0.00360373, 0.01863323,\n",
       "       0.00910998, 0.00531622])"
      ]
     },
     "metadata": {},
     "output_type": "display_data"
    }
   ],
   "source": [
    "# feature importance for the model\n",
    "display(\"Feature importance:\",train_df.columns,clf.feature_importances_)"
   ]
  },
  {
   "cell_type": "code",
   "execution_count": null,
   "metadata": {},
   "outputs": [],
   "source": []
  }
 ],
 "metadata": {
  "kernelspec": {
   "display_name": "Python 3",
   "language": "python",
   "name": "python3"
  },
  "language_info": {
   "codemirror_mode": {
    "name": "ipython",
    "version": 3
   },
   "file_extension": ".py",
   "mimetype": "text/x-python",
   "name": "python",
   "nbconvert_exporter": "python",
   "pygments_lexer": "ipython3",
   "version": "3.7.4"
  }
 },
 "nbformat": 4,
 "nbformat_minor": 2
}
